{
 "cells": [
  {
   "cell_type": "code",
   "execution_count": null,
   "metadata": {},
   "outputs": [],
   "source": [
    "import numpy as np\n",
    "import pandas as pd\n",
    "import string\n",
    "import math\n",
    "\n",
    "import otter\n",
    "grader = otter.Notebook()"
   ]
  },
  {
   "cell_type": "markdown",
   "metadata": {
    "tags": []
   },
   "source": [
    "# <mark style=\"background: #801010; color: #ffffff;\" >C</mark> Week 2: Working with pandas 🐼🐼🐼\n",
    "\n",
    "------\n",
    "\n",
    "### Instructions:\n",
    "\n",
    "- Complete 50 points worth of questions to pass the assessment\n",
    "- You can attempt any number of questions and in any order provided you pass at least 50 points.\n",
    "- These questions should be attempted directly in this notebook.\n",
    "- Be sure to check your work before submitting.\n",
    "- Do not remove any provided markings from the answer spaces.\n",
    "- Do not make any changes to this notebook outside of the answer spaces provided.\n",
    "  \n",
    "#### Submitting\n",
    "\n",
    "- Reset your outputs before submitting\n",
    "- Select the `Kernel` menu, then either `Restart & Run Clear Output` or `Restart & Run All`\n",
    "- Don't forget to save your notebook after this step\n",
    "- Submit your .ipynb file to Gradescope via upload\n",
    "- You can submit as many times as needed\n",
    "- When reviewing results, **ignore** any results listed under \"Public Tests\"  \n",
    "  (There are no \"Public Tests\" in this assignment)\n",
    "\n",
    "For more information, see the assessment page."
   ]
  },
  {
   "cell_type": "markdown",
   "metadata": {},
   "source": [
    "#### Question 01 &nbsp;&nbsp;&nbsp;&nbsp;&nbsp;&nbsp;(2 Points)\n",
    "\n",
    "Create a pandas Series named `series_1` with values:\n",
    "```python\n",
    "'a','b','c','d','e'\n",
    "```\n",
    "and index from 1 to 5 inclusive."
   ]
  },
  {
   "cell_type": "code",
   "execution_count": 7,
   "metadata": {
    "tags": []
   },
   "outputs": [
    {
     "data": {
      "text/plain": [
       "1    a\n",
       "2    b\n",
       "3    c\n",
       "4    d\n",
       "5    e\n",
       "dtype: object"
      ]
     },
     "execution_count": 7,
     "metadata": {},
     "output_type": "execute_result"
    }
   ],
   "source": [
    "import pandas as pd\n",
    "# Write your solution here\n",
    "series_1 = pd.Series(['a', 'b', 'c', 'd', 'e'], index=[1, 2, 3, 4, 5])\n",
    "series_1"
   ]
  },
  {
   "cell_type": "markdown",
   "metadata": {},
   "source": [
    "#### Question 02 &nbsp;&nbsp;&nbsp;&nbsp;&nbsp;&nbsp;(2 Points)\n",
    "\n",
    "Create a pandas Series named `series_2` with a default index and the values:\n",
    "```python\n",
    "'data', 'python', 'science', 'machine', 'learning'\n",
    "```"
   ]
  },
  {
   "cell_type": "code",
   "execution_count": 8,
   "metadata": {
    "tags": []
   },
   "outputs": [
    {
     "data": {
      "text/plain": [
       "0        data\n",
       "1      python\n",
       "2     science\n",
       "3     machine\n",
       "4    learning\n",
       "dtype: object"
      ]
     },
     "execution_count": 8,
     "metadata": {},
     "output_type": "execute_result"
    }
   ],
   "source": [
    "# Write your solution here\n",
    "series_2 = pd.Series(['data', 'python', 'science', 'machine', 'learning'])\n",
    "series_2\n"
   ]
  },
  {
   "cell_type": "markdown",
   "metadata": {},
   "source": [
    "#### Question 03 &nbsp;&nbsp;&nbsp;&nbsp;&nbsp;&nbsp;(2 Points)\n",
    "\n",
    "Create a pandas Series named `series_3` from the `np.array` variable supplied below with an index of the uppercase alphabet 'A' to 'Z'."
   ]
  },
  {
   "cell_type": "code",
   "execution_count": 33,
   "metadata": {
    "tags": []
   },
   "outputs": [
    {
     "data": {
      "text/plain": [
       "A     7\n",
       "B    59\n",
       "C    42\n",
       "D    13\n",
       "E    67\n",
       "F    19\n",
       "G    26\n",
       "H    59\n",
       "I    99\n",
       "J    97\n",
       "K    77\n",
       "L     1\n",
       "M    36\n",
       "N    49\n",
       "O    10\n",
       "P    51\n",
       "Q    41\n",
       "R    73\n",
       "S    33\n",
       "T    79\n",
       "U    19\n",
       "V    34\n",
       "W    84\n",
       "X    11\n",
       "Y    41\n",
       "Z    75\n",
       "dtype: int32"
      ]
     },
     "execution_count": 33,
     "metadata": {},
     "output_type": "execute_result"
    }
   ],
   "source": [
    "array = np.array([ 7, 59, 42, 13, 67, 19, 26, 59, 99, 97, 77,  1, 36, 49, 10, 51, 41,\n",
    "       73, 33, 79, 19, 34, 84, 11, 41, 75])\n",
    "\n",
    "alpha = []\n",
    "for i in range(65, 91):\n",
    "    alpha.append(chr(i))\n",
    "    \n",
    "# Write your solution here\n",
    "series_3 = pd.Series(array, index = alpha)\n",
    "series_3\n"
   ]
  },
  {
   "cell_type": "markdown",
   "metadata": {},
   "source": [
    "#### Question 04 &nbsp;&nbsp;&nbsp;&nbsp;&nbsp;&nbsp;(4 Points)\n",
    "\n",
    "Copy the Series above (`series_3`) to a new object named `series_4` and assign an index of the lowercase alphabet 'a' to 'z'. The first value of `series_4` should be assigned the value `100` while `series_3` must remain unchanged."
   ]
  },
  {
   "cell_type": "code",
   "execution_count": 44,
   "metadata": {
    "tags": []
   },
   "outputs": [
    {
     "name": "stdout",
     "output_type": "stream",
     "text": [
      "a    100\n",
      "b     59\n",
      "c     42\n",
      "d     13\n",
      "e     67\n",
      "f     19\n",
      "g     26\n",
      "h     59\n",
      "i     99\n",
      "j     97\n",
      "k     77\n",
      "l      1\n",
      "m     36\n",
      "n     49\n",
      "o     10\n",
      "p     51\n",
      "q     41\n",
      "r     73\n",
      "s     33\n",
      "t     79\n",
      "u     19\n",
      "v     34\n",
      "w     84\n",
      "x     11\n",
      "y     41\n",
      "z     75\n",
      "dtype: int32\n"
     ]
    }
   ],
   "source": [
    "# Write your solution here\n",
    "alpha = []\n",
    "for i in range(97, 123):\n",
    "    alpha.append(chr(i))\n",
    "    \n",
    "series_4 = pd.Series(np.copy(series_3), index = alpha)\n",
    "series_4[0] = 100\n",
    "print(series_4)\n"
   ]
  },
  {
   "cell_type": "markdown",
   "metadata": {},
   "source": [
    "#### Question 05 &nbsp;&nbsp;&nbsp;&nbsp;&nbsp;&nbsp;(4 Points)\n",
    "\n",
    "Given a pandas Series of the integers from 1 to 4 named `series_5`, transform this series into a series of floats and set the name of the series to be `'Float data'`.\n",
    "\n",
    "\n",
    "---\n",
    "<details>\n",
    "  <summary><span style=\"color:blue\">Finding documentation on attributes and methods</span></summary>\n",
    "    It's <strong>essential</strong> to be able to use the pandas API reference to discover details of the pandas classes (Series, DataFrame, Index etc). You can find how to set the data type and Series name here:\n",
    "    <a href=\"https://pandas.pydata.org/docs/reference/index.html\">API reference</a>\n",
    "</details>"
   ]
  },
  {
   "cell_type": "code",
   "execution_count": 52,
   "metadata": {
    "tags": []
   },
   "outputs": [
    {
     "data": {
      "text/plain": [
       "0    1.0\n",
       "1    2.0\n",
       "2    3.0\n",
       "3    4.0\n",
       "Name: Float data, dtype: float64"
      ]
     },
     "execution_count": 52,
     "metadata": {},
     "output_type": "execute_result"
    }
   ],
   "source": [
    "series_5 = pd.Series(['1','2','3','4'])\n",
    "\n",
    "# Write your solution here\n",
    "series_5 = series_5.rename('Float data').astype(float)\n",
    "series_5\n"
   ]
  },
  {
   "cell_type": "markdown",
   "metadata": {
    "tags": []
   },
   "source": [
    "#### Question 06 &nbsp;&nbsp;&nbsp;&nbsp;&nbsp;&nbsp;(4 Points)\n",
    "\n",
    "Create a Series with name `series_6` that contains all values greater than 50 in the NumPy `array` from Question 3. You should rely on NumPy filtering to sift these values."
   ]
  },
  {
   "cell_type": "code",
   "execution_count": null,
   "metadata": {
    "tags": []
   },
   "outputs": [],
   "source": [
    "# Write your solution here\n",
    "\n"
   ]
  },
  {
   "cell_type": "markdown",
   "metadata": {},
   "source": [
    "#### Question 07 &nbsp;&nbsp;&nbsp;&nbsp;&nbsp;&nbsp;(4 Points)\n",
    "\n",
    "Create a Series of floats that represents the values of the `array` in question 3 divided by `5`. Assign this Series to the variable `series_7`. Again, you should be looking to harness the featues of NumPy and pandas to create your Series."
   ]
  },
  {
   "cell_type": "code",
   "execution_count": null,
   "metadata": {
    "tags": []
   },
   "outputs": [],
   "source": [
    "# Write your solution here\n"
   ]
  },
  {
   "cell_type": "markdown",
   "metadata": {},
   "source": [
    "#### Question 08 &nbsp;&nbsp;&nbsp;&nbsp;&nbsp;&nbsp;(4 Points)\n",
    "\n",
    "Given the mixed type dictionary `mixed_data` below, create a pandas DataFrame from that data and assign it to a variable named `dataframe_8`.\n",
    "\n",
    "---\n",
    "<details>\n",
    "  <summary><span style=\"color:blue\">New pandas classes...</span></summary>\n",
    "   Please refer to the <a href=\"https://pandas.pydata.org/docs/reference/index.html\">API reference</a> to obtain details on any pandas classes that you have not yet encountered.\n",
    "</details>"
   ]
  },
  {
   "cell_type": "code",
   "execution_count": 54,
   "metadata": {
    "tags": []
   },
   "outputs": [
    {
     "data": {
      "text/html": [
       "<div>\n",
       "<style scoped>\n",
       "    .dataframe tbody tr th:only-of-type {\n",
       "        vertical-align: middle;\n",
       "    }\n",
       "\n",
       "    .dataframe tbody tr th {\n",
       "        vertical-align: top;\n",
       "    }\n",
       "\n",
       "    .dataframe thead th {\n",
       "        text-align: right;\n",
       "    }\n",
       "</style>\n",
       "<table border=\"1\" class=\"dataframe\">\n",
       "  <thead>\n",
       "    <tr style=\"text-align: right;\">\n",
       "      <th></th>\n",
       "      <th>A</th>\n",
       "      <th>B</th>\n",
       "      <th>C</th>\n",
       "      <th>D</th>\n",
       "      <th>E</th>\n",
       "      <th>F</th>\n",
       "    </tr>\n",
       "  </thead>\n",
       "  <tbody>\n",
       "    <tr>\n",
       "      <th>0</th>\n",
       "      <td>42.0</td>\n",
       "      <td>2022-07-04</td>\n",
       "      <td>1.0</td>\n",
       "      <td>3</td>\n",
       "      <td>test</td>\n",
       "      <td>foundations of computer science</td>\n",
       "    </tr>\n",
       "    <tr>\n",
       "      <th>1</th>\n",
       "      <td>42.0</td>\n",
       "      <td>2022-07-04</td>\n",
       "      <td>1.0</td>\n",
       "      <td>3</td>\n",
       "      <td>train</td>\n",
       "      <td>foundations of computer science</td>\n",
       "    </tr>\n",
       "    <tr>\n",
       "      <th>2</th>\n",
       "      <td>42.0</td>\n",
       "      <td>2022-07-04</td>\n",
       "      <td>1.0</td>\n",
       "      <td>3</td>\n",
       "      <td>test</td>\n",
       "      <td>foundations of computer science</td>\n",
       "    </tr>\n",
       "    <tr>\n",
       "      <th>3</th>\n",
       "      <td>42.0</td>\n",
       "      <td>2022-07-04</td>\n",
       "      <td>1.0</td>\n",
       "      <td>3</td>\n",
       "      <td>train</td>\n",
       "      <td>foundations of computer science</td>\n",
       "    </tr>\n",
       "  </tbody>\n",
       "</table>\n",
       "</div>"
      ],
      "text/plain": [
       "      A          B    C  D      E                                F\n",
       "0  42.0 2022-07-04  1.0  3   test  foundations of computer science\n",
       "1  42.0 2022-07-04  1.0  3  train  foundations of computer science\n",
       "2  42.0 2022-07-04  1.0  3   test  foundations of computer science\n",
       "3  42.0 2022-07-04  1.0  3  train  foundations of computer science"
      ]
     },
     "execution_count": 54,
     "metadata": {},
     "output_type": "execute_result"
    }
   ],
   "source": [
    "mixed_data = {\n",
    "    \"A\": 42.0,\n",
    "    \"B\": pd.Timestamp(\"20220704\"),\n",
    "    \"C\": pd.Series(1, index=list(range(4)), dtype=\"float32\"),\n",
    "    \"D\": np.array([3] * 4, dtype=\"int32\"),\n",
    "    \"E\": pd.Categorical([\"test\", \"train\", \"test\", \"train\"]),\n",
    "    \"F\": \"foundations of computer science\",\n",
    "}\n",
    "\n",
    "# Write your solution here\n",
    "dataframe_8 = pd.DataFrame(mixed_data)\n",
    "dataframe_8\n"
   ]
  },
  {
   "cell_type": "markdown",
   "metadata": {},
   "source": [
    "#### Question 09 &nbsp;&nbsp;&nbsp;&nbsp;&nbsp;&nbsp;(4 Points)\n",
    "\n",
    "In Question 8, we created a DataFrame with 6 columns. Create a series called `series_9` with values that reflect the **data type** of each column in `dataframe_8` and an index consisting of the column labels. Set the `name` attribute of this series to `'Column Types'`."
   ]
  },
  {
   "cell_type": "code",
   "execution_count": 58,
   "metadata": {
    "tags": []
   },
   "outputs": [
    {
     "data": {
      "text/plain": [
       "A           float64\n",
       "B    datetime64[ns]\n",
       "C           float32\n",
       "D             int32\n",
       "E          category\n",
       "F            object\n",
       "Name: Colunm Types, dtype: object"
      ]
     },
     "execution_count": 58,
     "metadata": {},
     "output_type": "execute_result"
    }
   ],
   "source": [
    "# Write your solution here\n",
    "dataframe_8.dtypes\n",
    "series_9 = pd.Series(dataframe_8.dtypes, name = 'Colum Types').rename('Colunm Types')\n",
    "series_9\n"
   ]
  },
  {
   "cell_type": "markdown",
   "metadata": {
    "tags": []
   },
   "source": [
    "#### Question 10 &nbsp;&nbsp;&nbsp;&nbsp;&nbsp;&nbsp;(5 Points)\n",
    "\n",
    "Given a dictionary called `pricing` (below), create a DataFrame that contains only \"object\" and \"colour\" elements in that order. Assign this DataFrame to the variable `dataframe_10`."
   ]
  },
  {
   "cell_type": "code",
   "execution_count": null,
   "metadata": {
    "tags": []
   },
   "outputs": [],
   "source": [
    "pricing = {'colour' : ['blue','green','yellow','red','white'],\n",
    "        'object' : ['ball','pen','pencil','paper','mug'],\n",
    "        'price' : [1.2,1.0,0.6,0.9,1.7]}\n",
    "\n",
    "# Write your solution here\n"
   ]
  },
  {
   "cell_type": "markdown",
   "metadata": {},
   "source": [
    "#### Question 11 &nbsp;&nbsp;&nbsp;&nbsp;&nbsp;&nbsp;(5 Points)\n",
    "\n",
    "Create a DataFrame, `dataframe_11`, that is a copy of `dataframe_10` but with the index:\n",
    "```python\n",
    "  'one', 'two', 'three', 'four', 'five'\n",
    "```\n",
    "Change the colour of the mug from `'white'` to `'black'`. `dataframe_10` should not be changed."
   ]
  },
  {
   "cell_type": "code",
   "execution_count": null,
   "metadata": {
    "tags": []
   },
   "outputs": [],
   "source": [
    "# Write your solution here\n"
   ]
  },
  {
   "cell_type": "markdown",
   "metadata": {},
   "source": [
    "#### Question 12 &nbsp;&nbsp;&nbsp;&nbsp;&nbsp;&nbsp;(5 Points)\n",
    "\n",
    "Download the file `weather-utf8.csv` from [this link](https://myuni.adelaide.edu.au/files/11146098/download?download_frd=1) and co-locate the file with this notebook. This file contains weather station data from the Australian Bureau of Meteorology for dates in January 2022. Data includes temperature, wind and rainfall information.\n",
    "\n",
    "Load the file into a DataFrame called `dataframe_12` and set the index for this dataframe to be the 'Date'.\n",
    "\n",
    "---\n",
    "<details>\n",
    "  <summary><span style=\"color:blue\">pandas API Reference for Input/Output</span></summary>\n",
    "   You can find how to read and write a CSV file to a DataFrame here:\n",
    "    <a href=\"https://pandas.pydata.org/docs/reference/io.html\">API reference (Input/Output)</a>\n",
    "</details>\n",
    "\n",
    "---\n",
    "<details>\n",
    "  <summary><span style=\"color:blue\">Help! My index won't stay put?!?</span></summary>\n",
    "   You can find how to set the index of DataFrame \"in place\" here:\n",
    "    <a href=\"https://pandas.pydata.org/docs/reference/api/pandas.DataFrame.set_index.html\">API reference (set_index)</a>\n",
    "</details>"
   ]
  },
  {
   "cell_type": "code",
   "execution_count": null,
   "metadata": {
    "tags": []
   },
   "outputs": [],
   "source": [
    "# Write your solution here\n"
   ]
  },
  {
   "cell_type": "markdown",
   "metadata": {},
   "source": [
    "#### Question 13 &nbsp;&nbsp;&nbsp;&nbsp;&nbsp;&nbsp;(5 Points)\n",
    "\n",
    "Using the data loaded in Question 12, create a pandas DataFrame called `dataframe_13` containing the maximum temperature and the rainfall only on those days when the maximum temperature for the day was greater than 34 degrees."
   ]
  },
  {
   "cell_type": "code",
   "execution_count": null,
   "metadata": {
    "tags": []
   },
   "outputs": [],
   "source": [
    "# Write your solution here\n"
   ]
  },
  {
   "cell_type": "markdown",
   "metadata": {},
   "source": [
    "#### Question 14 &nbsp;&nbsp;&nbsp;&nbsp;&nbsp;&nbsp;(5 Points)\n",
    "\n",
    "Using the data loaded in Question 12 and with reference to the [pandas API](https://pandas.pydata.org/docs/reference/index.html), create a two value tuple called `mean_14` that holds the mean of the maximum temperature and minimum temperature for the month of January like:\n",
    "```python\n",
    "    (mean_max_temp, mean_min_temp)\n",
    "```"
   ]
  },
  {
   "cell_type": "code",
   "execution_count": null,
   "metadata": {
    "tags": []
   },
   "outputs": [],
   "source": [
    "# Write your solution here\n"
   ]
  },
  {
   "cell_type": "markdown",
   "metadata": {},
   "source": [
    "#### Question 15 &nbsp;&nbsp;&nbsp;&nbsp;&nbsp;&nbsp;(5 Points)\n",
    "\n",
    "Create a DataFrame called `dataframe_15` by duplicating `dataframe_12`. To reflect questionable sensor data when windspeed falls below 28 km/h, set these values (speed of maximum windgust < 28 km/h) to be the Not a Number value `np.nan`."
   ]
  },
  {
   "cell_type": "code",
   "execution_count": null,
   "metadata": {
    "tags": []
   },
   "outputs": [],
   "source": [
    "# Write your solution here\n"
   ]
  },
  {
   "cell_type": "markdown",
   "metadata": {},
   "source": [
    "#### Question 16 &nbsp;&nbsp;&nbsp;&nbsp;&nbsp;&nbsp;(5 Points)\n",
    "\n",
    "Calculate the number of times that the maxmium wind gust came from the direction 'NNW' and assign it to the variable `nnw_gust_16`."
   ]
  },
  {
   "cell_type": "code",
   "execution_count": null,
   "metadata": {
    "tags": []
   },
   "outputs": [],
   "source": [
    "# Write your solution here\n"
   ]
  },
  {
   "cell_type": "markdown",
   "metadata": {},
   "source": [
    "#### Question 17 &nbsp;&nbsp;&nbsp;&nbsp;&nbsp;&nbsp;(10 Points)\n",
    "\n",
    "Download the file `titanic.csv` from [this link](https://myuni.adelaide.edu.au/files/11148918/download?download_frd=1) and co-locate the file with this notebook. This file contains data on the passengers on the Titanic - including an indication of those who lived and died on 14 April 1912 when it sank. Most columns are self-explanatory except the `Pclass`, `SibSp` and `Parch`.\n",
    "\n",
    "Load the CSV file into a DataFrame called `dataframe_17` and amend the title of the column `'Pclass'` to `'Passenger Class'`. Also, delete the columns `SibSp` and `Parch` from the DataFrame. Refer to the [API Reference](https://pandas.pydata.org/docs/reference/index.html) for information on renaming and dropping columns if required - and recall from Question 12 that we must specify \"inplace\" for changes to the DataFrame to persist."
   ]
  },
  {
   "cell_type": "code",
   "execution_count": null,
   "metadata": {
    "tags": []
   },
   "outputs": [],
   "source": [
    "# Write your solution here\n"
   ]
  },
  {
   "cell_type": "markdown",
   "metadata": {},
   "source": [
    "#### Question 18 &nbsp;&nbsp;&nbsp;&nbsp;&nbsp;&nbsp;(10 Points)\n",
    "\n",
    "The column `'Survived'` uses 1 and 0 to indicate whether the passenger survived. Create a `dataframe_18` which is a copy of `dataframe_17` and replaces 1 and 0 in the `'Survived'` column with the Python values `True` and `False`."
   ]
  },
  {
   "cell_type": "code",
   "execution_count": null,
   "metadata": {
    "tags": []
   },
   "outputs": [],
   "source": [
    "# Write your solution here\n"
   ]
  },
  {
   "cell_type": "markdown",
   "metadata": {},
   "source": [
    "#### Question 19 &nbsp;&nbsp;&nbsp;&nbsp;&nbsp;&nbsp;(15 Points)\n",
    "\n",
    "To end this practical, work out what percentage of female and male passengers survived. Present these two values in a variable called `survivors_19` that is a tuple `(female_percent, male_percent)` that expresses the percentage of survivors rounded to one decimal place like:\n",
    "```python\n",
    "    (72.1, 25.9)  # values are fictional but show the expected format of the result\n",
    "```\n",
    "To determine this value, explore the pandas API for the [groupby](https://pandas.pydata.org/docs/reference/api/pandas.DataFrame.groupby.html) function."
   ]
  },
  {
   "cell_type": "code",
   "execution_count": null,
   "metadata": {
    "tags": []
   },
   "outputs": [],
   "source": [
    "# Write your solution here\n"
   ]
  }
 ],
 "metadata": {
  "kernelspec": {
   "display_name": "Python 3 (ipykernel)",
   "language": "python",
   "name": "python3"
  },
  "language_info": {
   "codemirror_mode": {
    "name": "ipython",
    "version": 3
   },
   "file_extension": ".py",
   "mimetype": "text/x-python",
   "name": "python",
   "nbconvert_exporter": "python",
   "pygments_lexer": "ipython3",
   "version": "3.9.12"
  },
  "otter": {
   "tests": {
    "Question 01": {
     "name": "Question 01",
     "points": 2,
     "suites": [
      {
       "cases": [],
       "scored": true,
       "setup": "",
       "teardown": "",
       "type": "doctest"
      }
     ]
    },
    "Question 02": {
     "name": "Question 02",
     "points": 2,
     "suites": [
      {
       "cases": [],
       "scored": true,
       "setup": "",
       "teardown": "",
       "type": "doctest"
      }
     ]
    },
    "Question 03": {
     "name": "Question 03",
     "points": 2,
     "suites": [
      {
       "cases": [],
       "scored": true,
       "setup": "",
       "teardown": "",
       "type": "doctest"
      }
     ]
    },
    "Question 04": {
     "name": "Question 04",
     "points": 4,
     "suites": [
      {
       "cases": [],
       "scored": true,
       "setup": "",
       "teardown": "",
       "type": "doctest"
      }
     ]
    },
    "Question 05": {
     "name": "Question 05",
     "points": 4,
     "suites": [
      {
       "cases": [],
       "scored": true,
       "setup": "",
       "teardown": "",
       "type": "doctest"
      }
     ]
    },
    "Question 06": {
     "name": "Question 06",
     "points": 4,
     "suites": [
      {
       "cases": [],
       "scored": true,
       "setup": "",
       "teardown": "",
       "type": "doctest"
      }
     ]
    },
    "Question 07": {
     "name": "Question 07",
     "points": 4,
     "suites": [
      {
       "cases": [],
       "scored": true,
       "setup": "",
       "teardown": "",
       "type": "doctest"
      }
     ]
    },
    "Question 08": {
     "name": "Question 08",
     "points": 4,
     "suites": [
      {
       "cases": [],
       "scored": true,
       "setup": "",
       "teardown": "",
       "type": "doctest"
      }
     ]
    },
    "Question 09": {
     "name": "Question 09",
     "points": 4,
     "suites": [
      {
       "cases": [],
       "scored": true,
       "setup": "",
       "teardown": "",
       "type": "doctest"
      }
     ]
    },
    "Question 10": {
     "name": "Question 10",
     "points": 5,
     "suites": [
      {
       "cases": [],
       "scored": true,
       "setup": "",
       "teardown": "",
       "type": "doctest"
      }
     ]
    },
    "Question 11": {
     "name": "Question 11",
     "points": 5,
     "suites": [
      {
       "cases": [],
       "scored": true,
       "setup": "",
       "teardown": "",
       "type": "doctest"
      }
     ]
    },
    "Question 12": {
     "name": "Question 12",
     "points": 5,
     "suites": [
      {
       "cases": [],
       "scored": true,
       "setup": "",
       "teardown": "",
       "type": "doctest"
      }
     ]
    },
    "Question 13": {
     "name": "Question 13",
     "points": 5,
     "suites": [
      {
       "cases": [],
       "scored": true,
       "setup": "",
       "teardown": "",
       "type": "doctest"
      }
     ]
    },
    "Question 14": {
     "name": "Question 14",
     "points": 5,
     "suites": [
      {
       "cases": [],
       "scored": true,
       "setup": "",
       "teardown": "",
       "type": "doctest"
      }
     ]
    },
    "Question 15": {
     "name": "Question 15",
     "points": 5,
     "suites": [
      {
       "cases": [],
       "scored": true,
       "setup": "",
       "teardown": "",
       "type": "doctest"
      }
     ]
    },
    "Question 16": {
     "name": "Question 16",
     "points": 5,
     "suites": [
      {
       "cases": [],
       "scored": true,
       "setup": "",
       "teardown": "",
       "type": "doctest"
      }
     ]
    },
    "Question 17": {
     "name": "Question 17",
     "points": 10,
     "suites": [
      {
       "cases": [],
       "scored": true,
       "setup": "",
       "teardown": "",
       "type": "doctest"
      }
     ]
    },
    "Question 18": {
     "name": "Question 18",
     "points": 10,
     "suites": [
      {
       "cases": [],
       "scored": true,
       "setup": "",
       "teardown": "",
       "type": "doctest"
      }
     ]
    },
    "Question 19": {
     "name": "Question 19",
     "points": 15,
     "suites": [
      {
       "cases": [],
       "scored": true,
       "setup": "",
       "teardown": "",
       "type": "doctest"
      }
     ]
    }
   }
  },
  "varInspector": {
   "cols": {
    "lenName": 16,
    "lenType": 16,
    "lenVar": 40
   },
   "kernels_config": {
    "python": {
     "delete_cmd_postfix": "",
     "delete_cmd_prefix": "del ",
     "library": "var_list.py",
     "varRefreshCmd": "print(var_dic_list())"
    },
    "r": {
     "delete_cmd_postfix": ") ",
     "delete_cmd_prefix": "rm(",
     "library": "var_list.r",
     "varRefreshCmd": "cat(var_dic_list()) "
    }
   },
   "types_to_exclude": [
    "module",
    "function",
    "builtin_function_or_method",
    "instance",
    "_Feature"
   ],
   "window_display": false
  }
 },
 "nbformat": 4,
 "nbformat_minor": 4
}

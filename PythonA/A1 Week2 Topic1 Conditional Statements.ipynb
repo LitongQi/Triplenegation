{
 "cells": [
  {
   "cell_type": "code",
   "execution_count": null,
   "metadata": {},
   "outputs": [],
   "source": [
    "import pandas as pd\n",
    "import numpy as np\n",
    "%matplotlib inline\n",
    "import otter\n",
    "grader = otter.Notebook()"
   ]
  },
  {
   "cell_type": "markdown",
   "metadata": {},
   "source": [
    "# A1 | Week 2: Practice Conditional Statements\n",
    "\n",
    "------\n",
    "\n",
    "### Instructions:\n",
    "\n",
    "- Complete 50 points worth of questions to pass the assessment\n",
    "  - You can attempt any number of questions and in any order provided you pass at least 50 points.\n",
    "- Develop and check your answers in the spaces provided.\n",
    "  - Do not remove any variables other provided markings already present in the answer spaces.\n",
    "  - Do not make any changes to this notebook outside of the answer spaces provided.\n",
    "  \n",
    "#### Submitting\n",
    "\n",
    "- Upload your .ipynb file to Gradescope (Make sure to restart the kernel and run all before you submit)\n",
    "- You can submit as many times as needed\n",
    "- When reviewing results, ignore any results listed under \"Public Tests\"\n",
    "\n",
    "For more information, see the assessment page."
   ]
  },
  {
   "cell_type": "markdown",
   "metadata": {},
   "source": [
    "#### Question 1&nbsp;&nbsp;&nbsp;&nbsp;&nbsp;&nbsp;(1 Point)\n",
    "Create the variable `q1_user_age` and assign 18 (indicating user's age) to it. If the age is greater than or equal to 18, assign the string \"Eligible to vote!\" to the `output1` variable. Otherwise, assign the string \"Not eligible to vote\" to `output1`. Print `output1` at the end of the program to check whether your conditional statements are accurately working."
   ]
  },
  {
   "cell_type": "code",
   "execution_count": 2,
   "metadata": {
    "tags": []
   },
   "outputs": [],
   "source": [
    "q1_user_age = 18\n",
    "\n",
    "# Write your solution here\n"
   ]
  },
  {
   "cell_type": "markdown",
   "metadata": {},
   "source": [
    "#### Question 2&nbsp;&nbsp;&nbsp;&nbsp;&nbsp;&nbsp;(1 Point)\n",
    "Given the following `q2_username = \"john1\"`, if the username contains digits, assign the string \"Invalid username\" to `output2`. Otherwise, assign \"Valid username\" to `output2`. Print `output2` at the end of the program to check whether your conditional statements are accurately working."
   ]
  },
  {
   "cell_type": "code",
   "execution_count": null,
   "metadata": {
    "tags": []
   },
   "outputs": [],
   "source": [
    "q2_username = \"john1\"\n",
    "\n",
    "# Write your solution here\n",
    "\n"
   ]
  },
  {
   "cell_type": "markdown",
   "metadata": {},
   "source": [
    "#### Question 3&nbsp;&nbsp;&nbsp;&nbsp;&nbsp;&nbsp;(1 Point)\n",
    "Given the three numbers `q3_x = 220`, `q3_y = 30` and `q3_z = 490`, check if `q3_x` is greater than `q3_y`, and `q3_z` is greater than `q3_x`. If yes, assign the string \"The given two conditions are true\" to `output3`. Otherwise, `output3` should be \"The given conditions are false\". Print `output3` at the end of the program to check whether your conditional statements are accurately working."
   ]
  },
  {
   "cell_type": "code",
   "execution_count": null,
   "metadata": {
    "tags": []
   },
   "outputs": [],
   "source": [
    "q3_x, q3_y, q3_z = 220, 30, 490\n",
    "\n",
    "# Write your solution here\n",
    "\n"
   ]
  },
  {
   "cell_type": "markdown",
   "metadata": {},
   "source": [
    "#### Question 4&nbsp;&nbsp;&nbsp;&nbsp;&nbsp;&nbsp;(1 Point)\n",
    "Create the variable `q4_num` and assign -20 to it. If the number is positive or zero, assign the string \"This is a positive num!\" to the `output4` variable. Otherwise, assign the string \"This is a negative num!\" to `output4`. Print `output4` at the end of the program to check whether your conditional statements are accurately working."
   ]
  },
  {
   "cell_type": "code",
   "execution_count": null,
   "metadata": {
    "tags": []
   },
   "outputs": [],
   "source": [
    "q4_num = -20\n",
    "\n",
    "# Write your solution here\n",
    "\n"
   ]
  },
  {
   "cell_type": "markdown",
   "metadata": {},
   "source": [
    "#### Question 5&nbsp;&nbsp;&nbsp;&nbsp;&nbsp;&nbsp;(1 Point)\n",
    "Given the three numbers `q5_x = 30`, `q5_y = 220` and `q5_z = 490`, check if `q5_x` is greater than `q5_y` or `q5_x` is greater than `q5_z`. If yes, do nothing. Else assign the string \"None of the given conditions are met\" to `output5` variable.\n",
    "\n",
    "***\n",
    "\n",
    "<details>\n",
    "  <summary><span style=\"color:blue\">Click to see Hints</span></summary>\n",
    "    \n",
    "* if statements cannot be empty. However, if you want have an if statement with no content, put in the `pass` statement to avoid getting an error in the program.\n",
    "</details>"
   ]
  },
  {
   "cell_type": "code",
   "execution_count": null,
   "metadata": {
    "tags": []
   },
   "outputs": [],
   "source": [
    "q5_x, q5_y, q5_z = 30, 220, 490\n",
    "\n",
    "# Write your solution here\n",
    "\n"
   ]
  },
  {
   "cell_type": "markdown",
   "metadata": {},
   "source": [
    "#### Question 6&nbsp;&nbsp;&nbsp;&nbsp;&nbsp;&nbsp;(3 Points)\n",
    "Create variable `q6_username` and assign \"&sysTeM aDmIn\" to it.  \n",
    "If the name is \"system admin\", assign the string \"Welcome to the system admin dashboard!\" to the `output6` variable. Make sure that your program accurately identifies the system admin, even that person types the username in different ways such as `System admin`, `SYSTEM ADMIN`, `sYsTeM aDmIn`, etc.  \n",
    "If `q6_username` is not system admin, check if the name starts with \"&\". If the name starts with \"&\", assign the string \"Invalid User Entry!\" to the `output6` variable. Otherwise, assign the string \"Good morning user! Welcome to the dashboard\".  \n",
    "Print `output6` at the end of the program to check whether your conditional statements are accurately working."
   ]
  },
  {
   "cell_type": "code",
   "execution_count": null,
   "metadata": {
    "tags": []
   },
   "outputs": [],
   "source": [
    "q6_username = \"&sysTeM aDmIn\"\n",
    "\n",
    "# Write your solution here\n",
    "\n"
   ]
  },
  {
   "cell_type": "markdown",
   "metadata": {},
   "source": [
    "#### Question 7&nbsp;&nbsp;&nbsp;&nbsp;&nbsp;&nbsp;(3 Points) \n",
    "Create the `q7_num` and assign the value -121210. Write a Python program which assigns `True` (boolean) to the variable `output7`, if the number `q7_num` is even and divisible by 5. Otherwise, assign `False` (boolean) to the variable `output7`. Print `output7` at the end of the program to check whether your conditional statements are accurately working."
   ]
  },
  {
   "cell_type": "code",
   "execution_count": null,
   "metadata": {
    "tags": []
   },
   "outputs": [],
   "source": [
    "q7_num = -121210\n",
    "\n",
    "# Write your solution here\n",
    "\n"
   ]
  },
  {
   "cell_type": "markdown",
   "metadata": {},
   "source": [
    "#### Question 8&nbsp;&nbsp;&nbsp;&nbsp;&nbsp;&nbsp;(3 Points) \n",
    "Create the `q8_num` variable and assign 12.9191. Write a Python program which assigns the decimal part of `q8_num` rounded to 2 decimal places to the variable `output8` (e.g., the decimal part of `91.12` is `0.12`).  \n",
    "If the decimal part is zero (e.g., `12.0`, `12.00`) assign the string: \"Not Found\" to the variable `output8`.  \n",
    "Print `output8` at the end of the program to check whether your conditional statements are accurately working."
   ]
  },
  {
   "cell_type": "code",
   "execution_count": null,
   "metadata": {
    "tags": []
   },
   "outputs": [],
   "source": [
    "q8_num = 12.9191\n",
    "\n",
    "# Write your solution here\n",
    "\n"
   ]
  },
  {
   "cell_type": "markdown",
   "metadata": {},
   "source": [
    "#### Question 9&nbsp;&nbsp;&nbsp;&nbsp;&nbsp;&nbsp;(3 Points)\n",
    "Set the length and breadth of a rectangle to 12 and 18, respectively. Create two variables `q9_length` and `q9_breadth`, and assign these values. Write a Python program to check if it is square or not. If it is a square assign the string \"It is a square of length: LENGTH\" (*Note: LENGTH should be replaced with the numeric value that the user entered*) to `output9` variable.  \n",
    "If not `output9` should be \"It is a rectangle with length: LENGTH & breadth: BREADTH\" (*Note: LENGTH and BREADTH should be replaced with the numeric values that the user entered*).  \n",
    "Print `output9` at the end of the program to check whether your conditional statements are accurately working."
   ]
  },
  {
   "cell_type": "code",
   "execution_count": null,
   "metadata": {
    "tags": []
   },
   "outputs": [],
   "source": [
    "q9_length = 12\n",
    "q9_breadth = 18\n",
    "\n",
    "# Write your solution here\n"
   ]
  },
  {
   "cell_type": "markdown",
   "metadata": {},
   "source": [
    "#### Question 10&nbsp;&nbsp;&nbsp;&nbsp;&nbsp;&nbsp;(3 Points)\n",
    "Create two variables `q10_num1` and `q10_num2` and assign the values 46.1 and 91.6. Get the sum of these two numbers and set it to `output10`. If the sum of these two numbers are between 20-40, set `output10` to 40. If the sum of these two numbers are between 120-140, set `output10` to 140. Otherwise, keep the original sum of two numbers without doing any changes.  \n",
    "Print `output10` at the end of the program to check whether your conditional statements are accurately working."
   ]
  },
  {
   "cell_type": "code",
   "execution_count": null,
   "metadata": {
    "tags": []
   },
   "outputs": [],
   "source": [
    "q10_num1 = 46.1\n",
    "q10_num2 = 91.6\n",
    "\n",
    "# Write your solution here\n",
    "\n"
   ]
  },
  {
   "cell_type": "markdown",
   "metadata": {},
   "source": [
    "#### Question 11&nbsp;&nbsp;&nbsp;&nbsp;&nbsp;&nbsp;(4 Points)\n",
    "Create the variable `q11_num` and assign the value 1591 to it. Write a Python program to check whether this number is divisible by 4 or multiple of 9. If so, assign the string `The number NUMBER is \"divisible by 4\" or \"multiple of 9\"` to `output11`. If not, check if `q11_num` is odd. If yes, assign the string `The number NUMBER is odd` to `output11`. Otherwise, assign the string `The number NUMBER is not \"divisible by 4\" or \"multiple of 9\" or \"odd\"` and assign it to the `output11` variable.\n",
    "\n",
    "*Note: NUMBER in the given strings should be replaced with `q11_num`*\n",
    "\n",
    "Print `output11` at the end of the program to check whether your conditional statements are accurately working.\n",
    "\n",
    "***\n",
    "\n",
    "<details>\n",
    "  <summary><span style=\"color:blue\">Click to see Hints</span></summary>\n",
    "    \n",
    "  * You will need to use if...elif ladder to do this.\n",
    "</details>"
   ]
  },
  {
   "cell_type": "code",
   "execution_count": null,
   "metadata": {
    "tags": []
   },
   "outputs": [],
   "source": [
    "q11_num = 1591\n",
    "\n",
    "# Write your solution here\n",
    "\n"
   ]
  },
  {
   "cell_type": "markdown",
   "metadata": {},
   "source": [
    "#### Question 12&nbsp;&nbsp;&nbsp;&nbsp;&nbsp;&nbsp;(4 Points)\n",
    "Let the variables `q12_num1`, `q12_num2` and `q12_num3` be 10, 1200 and 900, respectively. \n",
    "\n",
    "Write a Python program to determine the highest number out of these three numbers using conditional statements (i.e., without using methods such as `min()`). Create the variable `output12` and assign the string \"The highest number is: NUMBER\" (*Note: NUMBER should be replaced with the highest number*). \n",
    "\n",
    "If the `q12_num1`, `q12_num2` and `q12_num3` are the same, `output12` should be \"Equal numbers!\". \n",
    "\n",
    "***\n",
    "\n",
    "<details>\n",
    "  <summary><span style=\"color:blue\">Click to see Hints</span></summary>\n",
    "    \n",
    "  * You will need to use if...elif ladder to do this.\n",
    "    \n",
    "</details>"
   ]
  },
  {
   "cell_type": "code",
   "execution_count": null,
   "metadata": {
    "tags": []
   },
   "outputs": [],
   "source": [
    "q12_num1 = 10\n",
    "q12_num2 = 1200\n",
    "q12_num3 = 900\n",
    "\n",
    "# Write your solution here\n",
    "\n"
   ]
  },
  {
   "cell_type": "markdown",
   "metadata": {},
   "source": [
    "#### Question 13&nbsp;&nbsp;&nbsp;&nbsp;&nbsp;&nbsp;(4 Points)\n",
    "Create the variable `q13_input` and assign `E` to it. Write a Python program to decide whether `q13_input` is a vowel or consonant. The following conditions should be met when writing the program.\n",
    "* 'a', 'e', 'i', 'o', 'u' are vowels. If `q13_input` is one of them, the string \"LETTER is a vowel.\" (*Note: LETTER should be replaced with `q13_input`*) should be assigned to `output13`.\n",
    "* For other letters, `output13` should be \"LETTER is a consonant.\" (*Note: LETTER should be replaced with `q13_input`*).\n",
    "\n",
    "***\n",
    "<details>\n",
    "  <summary><span style=\"color:blue\">Click to see Hints</span></summary>\n",
    "    \n",
    "* Check the case of the letters: it maybe a good idea to lowercase the input when checking the vowels.\n",
    "</details>"
   ]
  },
  {
   "cell_type": "code",
   "execution_count": null,
   "metadata": {
    "tags": []
   },
   "outputs": [],
   "source": [
    "# Write your solution here\n",
    "\n"
   ]
  },
  {
   "cell_type": "markdown",
   "metadata": {},
   "source": [
    "#### Question 14&nbsp;&nbsp;&nbsp;&nbsp;&nbsp;&nbsp;(4 Points)\n",
    "Write a Python program to convert a given dog's age (which is in human years) into dog's years. For this purpose, use the below-mentioned guidelines.\n",
    "\n",
    "1. For the first 2 years, one dog year is equivalent to 10.5 human years. \n",
    "2. After the first 2 years, each dog year is equivalent to 4 human years. \n",
    "\n",
    "Create the variable `q14_dogage` and assign 20 to it. When a dog's age is 20 in human years, the expected output should be `93`in dog's years.\n",
    "\n",
    "Use the variable `output14` to calculate the dog's age in dog's years using conditional statements. If `q14_dogage` is mistakenly set to a negative value (e.g., `-30`) as an input, `output14` should be \"No negative values\"."
   ]
  },
  {
   "cell_type": "code",
   "execution_count": null,
   "metadata": {
    "tags": []
   },
   "outputs": [],
   "source": [
    "q14_dogage = 20\n",
    "\n",
    "# Write your solution here\n",
    "\n"
   ]
  },
  {
   "cell_type": "markdown",
   "metadata": {},
   "source": [
    "#### Question 15 &nbsp;&nbsp;&nbsp;&nbsp;&nbsp;&nbsp;(4 Points) \n",
    "Write a Python program to determine from the three numbers whether the given triangle type is equilateral, isosceles or scalene. \n",
    "\n",
    "* The Equilateral triangle has three equal sides.\n",
    "* The Scalene triangle has three unequal sides.\n",
    "* The Isosceles triangle has two equal sides. \n",
    "\n",
    "Create `q15_side1`, `q15_side2` and `q15_side3` variables (which indicate the three sides of a triangle) and assign the values 20, 20 and 12.\n",
    "\n",
    "If equilateral, assign \"This is an equilateral triangle\" to `output15`. If isosceles, assign \"This is an isosceles triangle\" to `output15`. If scalene, assign \"This is a scalene triangle\" to `output15`."
   ]
  },
  {
   "cell_type": "code",
   "execution_count": null,
   "metadata": {
    "tags": []
   },
   "outputs": [],
   "source": [
    "q15_side1, q15_side2, q15_side3 = 20, 20, 12\n",
    "\n",
    "# Write your solution here\n",
    "\n"
   ]
  },
  {
   "cell_type": "markdown",
   "metadata": {},
   "source": [
    "#### Question 16 &nbsp;&nbsp;&nbsp;&nbsp;&nbsp;&nbsp;(4 Points)\n",
    "Create the variable `q16_num` and assign the value 1533. Get the last digit of `q16_num` (e.g., if `1919`, the last digit would be `9`) using arithmetic operations and assign it to `output16`. \n",
    "\n",
    "Write a Python program to check whether the last digit is divisible by 5. If so, increase the last digit by 10%. If not, decrease the last digit by 10%.\n",
    "***\n",
    "\n",
    "<details>\n",
    "  <summary><span style=\"color:blue\">Click to see Hints</span></summary>\n",
    "    \n",
    "* You will need to use modulo operator (`%`) to find the last digit.\n",
    "</details>"
   ]
  },
  {
   "cell_type": "code",
   "execution_count": null,
   "metadata": {
    "tags": []
   },
   "outputs": [],
   "source": [
    "q16_num = 1533\n",
    "\n",
    "# Write your solution here\n",
    "\n"
   ]
  },
  {
   "cell_type": "markdown",
   "metadata": {},
   "source": [
    "#### Question 17 &nbsp;&nbsp;&nbsp;&nbsp;&nbsp;&nbsp;(6 Points)\n",
    "Create the variable `q17_variable` and assign 1+2j to it. Write a Python program using the following guidelines to print the data type of `q17_variable`.\n",
    "\n",
    "* If `q17_variable` is string, assign the value \"Type of the variable is string\" to `output17`.\n",
    "* If `q17_variable` is integer, assign the value \"Type of the variable is int\" to `output17`.\n",
    "* If `q17_variable` is floating point, assign the value \"Type of the variable is float\" to `output17`.\n",
    "* If `q17_variable` is boolean, assign the value \"Type of the variable is bool\" to `output17`.\n",
    "* If `q17_variable` is None, assign the value \"Type of the variable is NoneType\" to `output17`.\n",
    "* If `q17_variable` is complex, assign the value \"Type of the variable is complex\" to `output17`.\n",
    "\n",
    "Print `output17` at the end of the program to check whether your conditional statements are accurately working.\n",
    "\n",
    "***\n",
    "<details>\n",
    "  <summary><span style=\"color:blue\">Click to see Hints</span></summary>\n",
    "\n",
    "* In addition to the int and float that we learnt in Week 1, Python also has one other numeric type called *complex numbers*. Complex numbers are written with a \"j\" as the imaginary part (e.g., `3+5j`). The type of complex numbers are `complex`.\n",
    "</details>\n"
   ]
  },
  {
   "cell_type": "code",
   "execution_count": null,
   "metadata": {
    "tags": []
   },
   "outputs": [],
   "source": [
    "q17_variable = 1+2j\n",
    "\n",
    "# Write your solution here\n",
    "\n"
   ]
  },
  {
   "cell_type": "markdown",
   "metadata": {},
   "source": [
    "#### Question 18 &nbsp;&nbsp;&nbsp;&nbsp;&nbsp;&nbsp;(6 Points)\n",
    "Create the variable `q18_month` and set the value \"   \\n \\t \\n Fe \\n brua \\n rY \\n \\n   \" to it.  \n",
    "Write a Python program that shows a message depending on the month entered in `q18_month`, according to the messages given in the table below.\n",
    "\n",
    "|Month|Message|\n",
    "|:---: |:---:|\n",
    "|January|Hello, 1st Month|\n",
    "|February|Hello, 2nd Month|\n",
    "|March|Hello, 3rd Month|\n",
    "|April|Hello, 4th Month|\n",
    "|May|Hello, 5th Month|\n",
    "|June|Hello, 6th Month|\n",
    "|July|Hello, 7th Month|\n",
    "|August|Hello, 8th Month|\n",
    "|September|Hello, 9th Month|\n",
    "|October|Hello, 10th Month|\n",
    "|November|Hello, 11th Month|\n",
    "|December|Hello, 12th Month|\n",
    "\n",
    "Note the following guidelines when developing the program.\n",
    "1. Help poor typists by cleaning extra spaces and adjusting cases in `q18_month`, when writing the conditional statements.\n",
    "2. When showing the message, first assign it to `output18`.\n",
    "3. Print `output18` at the end of your program to check whether your conditional statements are accurately working.\n"
   ]
  },
  {
   "cell_type": "code",
   "execution_count": null,
   "metadata": {
    "tags": []
   },
   "outputs": [],
   "source": [
    "q18_month = \"   \\n \\t \\n Fe \\n brua \\n rY \\n \\n   \"\n",
    "\n",
    "# Write your solution here\n",
    "\n"
   ]
  },
  {
   "cell_type": "markdown",
   "metadata": {},
   "source": [
    "#### Question 19 &nbsp;&nbsp;&nbsp;&nbsp;&nbsp;&nbsp;(6 Points)\n",
    "Write a Python program to develop a simple calculator using the following details.\n",
    "\n",
    "The two variables `q19_num1` and `q19_num2` denote the two numbers that your calculator takes to perform the calculations. For this question, set these two variables to -12 and -10.\n",
    "\n",
    "Note that since your calculator is simple, it won't process any negative numbers. Therefore, if `q19_num1` and `q19_num2` are negative, make them positive using Python built-in functions.\n",
    "\n",
    "Create the variable `q19_choice` that denotes the arithmetic operation that the user wants to perform. The choices and their relevant codes are summarised in the following table.\n",
    "\n",
    "|Choice Number|Operation|\n",
    "|:---:|:---:|\n",
    "|(\"1\")|Average|\n",
    "|(\"2\")|Multiplication|\n",
    "|(\"3\")|Division|\n",
    "|(\"4\")|Integer division|\n",
    "|(\"5\")|Exponentiation|\n",
    "|(\"6\")|Modulo|\n",
    "\n",
    "In this example, set the variable `q19_choice` to the value (\"6\"). \n",
    "\n",
    "Use the variable `output19` to assign the calculated output. Print `output19` at the end of the program to check whether your conditional statements are accurately working.\n",
    "\n",
    "***\n",
    "<details>\n",
    "  <summary><span style=\"color:blue\">Click to see Hints</span></summary>  \n",
    "    \n",
    "* You will need to use `abs()` to make the negative numbers positive.\n",
    "    \n",
    "</details>"
   ]
  },
  {
   "cell_type": "code",
   "execution_count": null,
   "metadata": {
    "tags": []
   },
   "outputs": [],
   "source": [
    "q19_num1, q19_num2 = -12, -10\n",
    "q19_choice = '(\"6\")'\n",
    "\n",
    "# Write your solution here\n",
    "\n"
   ]
  },
  {
   "cell_type": "markdown",
   "metadata": {},
   "source": [
    "#### Question 20 &nbsp;&nbsp;&nbsp;&nbsp;&nbsp;&nbsp;(6 Points)\n",
    "Write a Python program to that computes the minimum number of bills needed to make change for a person.\n",
    "\n",
    "For the simplicity of the problem, assume that we only have `$20`, `$10`, `$5`, `$2` and `$1` bills. For instance, if you need to give `$91` in change, you would need four `$20`, one `$10`, and one `$1`. Use the intermediate variables `q20_20`, `q20_10`, `q20_5`, `q20_2` and `q20_1` to store the number of bills needed. The output of this program should be in the following format \n",
    "(for the above-described example of `$91`).\n",
    "\n",
    "```\n",
    "4 twenties\n",
    "1 ten\n",
    "1 one\n",
    "```\n",
    "\n",
    "Use conditional statements to handle the singular and plural version of the above output. When only one bill is needed, you should use the singular version of the word. When more than one bill is needed, the plural of the label should be used. Mentioned below are the singular and plural version of the bills.\n",
    "\n",
    "|bill|singular|plural|\n",
    "|:---:|:---:|:---:|\n",
    "|20| twenty|twenties|\n",
    "|10|ten|tens|\n",
    "|5|five|fives|\n",
    "|2|two|twos|\n",
    "|1|one|ones|\n",
    "\n",
    "For this question, create a variable `q20_amount` and set it to 2219. \n",
    "\n",
    "Use the variable `output20` to assign the solution.\n",
    "\n",
    "***\n",
    "<details>\n",
    "  <summary><span style=\"color:blue\">Click to see Hints</span></summary>\n",
    "    \n",
    "* To identify the number of bills needed, you will need to use integer division and modulo operations.\n",
    "* Use the intermediate variables `q20_20`, `q20_10`, `q20_5`, `q20_2` and `q20_1` in the conditional statements to decide the singular and plural forms in `output20`.\n",
    "* You may need to remove extra `\\n` at the end of the `output20` using `strip()` function.\n",
    "</details>"
   ]
  },
  {
   "cell_type": "code",
   "execution_count": null,
   "metadata": {
    "tags": []
   },
   "outputs": [],
   "source": [
    "q20_amount = 2219\n",
    "\n",
    "# Write your solution here\n",
    "\n"
   ]
  },
  {
   "cell_type": "markdown",
   "metadata": {},
   "source": [
    "#### Question 21 &nbsp;&nbsp;&nbsp;&nbsp;&nbsp;&nbsp;(6 Points)\n",
    "Write a Python program to convert `19191 seconds` into days, hours, minutes and seconds. Create variables `output21_days`, `output21_hours`, `output21_minutes` and `output23_seconds` and assign the number of days (int), number of hours (int), number of minutes (int) and number of seconds (int) to these variables, respectively. \n",
    "\n",
    "The output of this program should be in the following format. Use the variable `output21` to assign the solution.\n",
    "\n",
    "```\n",
    "0 day\n",
    "5 hours\n",
    "19 minutes\n",
    "51 seconds\n",
    "```\n",
    "\n",
    "Use conditional statements to handle the singular and plural version of the above output. When you have 0 or 1, you should use the singular version of the word. When more than one, the plural of the label should be used. Mentioned below are the singular and plural versions of the days, hours, minutes and seconds.\n",
    "\n",
    "|singular|plural|\n",
    "|:---:|:---:|\n",
    "|day|days|\n",
    "|hour|hours|\n",
    "|minute|minutes|\n",
    "|second|seconds|\n",
    "\n",
    "***\n",
    "\n",
    "<details>\n",
    "  <summary><span style=\"color:blue\">Click to see Hints</span></summary>\n",
    "    \n",
    "* To identify the number of days, hours, minutes and seconds, you will need to use integer division and modulo operations.\n",
    "* You may need to remove extra `\\n` at the end of the `output21` using `strip()` function.\n",
    "\n",
    "</details>"
   ]
  },
  {
   "cell_type": "code",
   "execution_count": null,
   "metadata": {
    "tags": []
   },
   "outputs": [],
   "source": [
    "q21_num = 19191\n",
    "\n",
    "# Write your solution here\n",
    "\n"
   ]
  },
  {
   "cell_type": "markdown",
   "metadata": {},
   "source": [
    "#### Question 22 &nbsp;&nbsp;&nbsp;&nbsp;&nbsp;&nbsp;(6 Points)\n",
    "Create the variable `q22_localtime` and assign \"11:52\" to it.\n",
    "\n",
    "Write a Python Program that displays a greeting message based on the `q22_localtime`, as given in the guidelines below.\n",
    "* `output22` should be \"Good morning\", if less than 12:00 (from 00:01).\n",
    "* `output22` should be \"Good afternoon\", if between 12:00 - 17:00.\n",
    "* `output22` should be \"Good evening/night\", if equal or above 17:00 (until 24:00). "
   ]
  },
  {
   "cell_type": "code",
   "execution_count": null,
   "metadata": {
    "tags": []
   },
   "outputs": [],
   "source": [
    "q22_localtime = \"11:52\"\n",
    "\n",
    "# Write your solution here\n",
    "\n"
   ]
  },
  {
   "cell_type": "markdown",
   "metadata": {},
   "source": [
    "#### Question 23 &nbsp;&nbsp;&nbsp;&nbsp;&nbsp;&nbsp;(10 Points)\n",
    "Write a Python program to calculate a salary scheme of a company. \n",
    "\n",
    "Create two variables `service_years` and `salary` and assign the values 6 and 46000.0, respectively. Note the following guidelines when developing the program and use `salary` for salary calculations needed.\n",
    "\n",
    "* If the number of years is 0, do not change the salary.\n",
    "* If the number of years is less than or equal 2 years and salary is more than 20000, give a 5% bonus. \n",
    "* If the number of years is less than or equal 2 years and salary is less than or equal 20000, give a 2.5% bonus.\n",
    "* If the number of years is more than 2 years and salary is more than 40000, give a 7.5% bonus.\n",
    "* If the number of years is more than 2 years and salary is less than or equal 40000, give a 5% bonus.\n",
    "* If the number of years is more than or equal to 5 years, give an extra 5000. \n",
    "\n",
    "When developing the program, note the following conditions. If the user has mistakenly entered a negative value for the number of service years or current salary, set `service_years` and `salary` to `None`.  \n",
    "No salary should be greater than 200000 or less than 10000. If the value of `salary` is greater than 200000 or less than 10000, set `service_years` and `salary` to `None`.\n",
    "\n",
    "Print `salary` at the end of the program to check whether your conditional statements are accurately working."
   ]
  },
  {
   "cell_type": "code",
   "execution_count": null,
   "metadata": {
    "tags": []
   },
   "outputs": [],
   "source": [
    "service_years = 6\n",
    "salary = 46000.0\n",
    "\n",
    "# Write your solution here\n",
    "\n"
   ]
  },
  {
   "cell_type": "markdown",
   "metadata": {},
   "source": [
    "#### Question 24 &nbsp;&nbsp;&nbsp;&nbsp;&nbsp;&nbsp;(10 Points)\n",
    "Write a Python program to handle product inventory, as described in the scenario below using conditional statements.\n",
    "\n",
    "Create the variables, `items_ordered` and `items_InStock`, and assign values of 33 and 36. \n",
    "\n",
    "First, compare the size of a new eCommerce order (i.e., `items_ordered`) with how much inventory there's left (i.e., `items_InStock`). If there's enough inventory, update the remaining number of inventory left in `items_InStock` (using `items_ordered`), and assign the string \"Order confirmed\" to `output24`. Otherwise, `output24` should be \"We are running out of inventory\".\n",
    "\n",
    "If we have a sufficient number of items to fulfil the eCommerce order in our inventory, next we want to calculate how many boxes we should post to the customer. The company policy is to include only 8 items per package. Calculate the number of packages for the order and assign it to the variable `package_count`. \n",
    "\n",
    "The delivery policy is to deliver at most 4 packages at a time (i.e., if we have 9 packages, we need 3 deliveries). If `package_count` is more than 4, we need to calculate the delivery count based on the number of packages and assign it to the variable `delivery_count`. Otherwise, `delivery_count` should be 1.\n",
    "\n",
    "***\n",
    "<details>\n",
    "  <summary><span style=\"color:blue\">Click to see Hints</span></summary>\n",
    "    \n",
    "* You will need to use nested if statements.\n",
    "* You may need to use `math.ceil()` in `math` module to round up the number of packages in `package_count` and number of deliveries in `delivery_count`.\n",
    "</details>\n"
   ]
  },
  {
   "cell_type": "code",
   "execution_count": null,
   "metadata": {
    "tags": []
   },
   "outputs": [],
   "source": [
    "# Write your solution here\n",
    "\n"
   ]
  }
 ],
 "metadata": {
  "celltoolbar": "Edit Metadata",
  "kernelspec": {
   "display_name": "Python 3.10.6 64-bit",
   "language": "python",
   "name": "python3"
  },
  "language_info": {
   "codemirror_mode": {
    "name": "ipython",
    "version": 3
   },
   "file_extension": ".py",
   "mimetype": "text/x-python",
   "name": "python",
   "nbconvert_exporter": "python",
   "pygments_lexer": "ipython3",
   "version": "3.10.6"
  },
  "otter": {
   "tests": {
    "Question 01": {
     "name": "Question 01",
     "points": 1,
     "suites": [
      {
       "cases": [],
       "scored": true,
       "setup": "",
       "teardown": "",
       "type": "doctest"
      }
     ]
    },
    "Question 02": {
     "name": "Question 02",
     "points": 1,
     "suites": [
      {
       "cases": [],
       "scored": true,
       "setup": "",
       "teardown": "",
       "type": "doctest"
      }
     ]
    },
    "Question 03": {
     "name": "Question 03",
     "points": 1,
     "suites": [
      {
       "cases": [],
       "scored": true,
       "setup": "",
       "teardown": "",
       "type": "doctest"
      }
     ]
    },
    "Question 04": {
     "name": "Question 04",
     "points": 1,
     "suites": [
      {
       "cases": [],
       "scored": true,
       "setup": "",
       "teardown": "",
       "type": "doctest"
      }
     ]
    },
    "Question 05": {
     "name": "Question 05",
     "points": 1,
     "suites": [
      {
       "cases": [],
       "scored": true,
       "setup": "",
       "teardown": "",
       "type": "doctest"
      }
     ]
    },
    "Question 06": {
     "name": "Question 06",
     "points": 3,
     "suites": [
      {
       "cases": [],
       "scored": true,
       "setup": "",
       "teardown": "",
       "type": "doctest"
      }
     ]
    },
    "Question 07": {
     "name": "Question 07",
     "points": 3,
     "suites": [
      {
       "cases": [],
       "scored": true,
       "setup": "",
       "teardown": "",
       "type": "doctest"
      }
     ]
    },
    "Question 08": {
     "name": "Question 08",
     "points": 3,
     "suites": [
      {
       "cases": [],
       "scored": true,
       "setup": "",
       "teardown": "",
       "type": "doctest"
      }
     ]
    },
    "Question 09": {
     "name": "Question 09",
     "points": 3,
     "suites": [
      {
       "cases": [],
       "scored": true,
       "setup": "",
       "teardown": "",
       "type": "doctest"
      }
     ]
    },
    "Question 10": {
     "name": "Question 10",
     "points": 3,
     "suites": [
      {
       "cases": [],
       "scored": true,
       "setup": "",
       "teardown": "",
       "type": "doctest"
      }
     ]
    },
    "Question 11": {
     "name": "Question 11",
     "points": 4,
     "suites": [
      {
       "cases": [],
       "scored": true,
       "setup": "",
       "teardown": "",
       "type": "doctest"
      }
     ]
    },
    "Question 12": {
     "name": "Question 12",
     "points": 4,
     "suites": [
      {
       "cases": [],
       "scored": true,
       "setup": "",
       "teardown": "",
       "type": "doctest"
      }
     ]
    },
    "Question 13": {
     "name": "Question 13",
     "points": 4,
     "suites": [
      {
       "cases": [],
       "scored": true,
       "setup": "",
       "teardown": "",
       "type": "doctest"
      }
     ]
    },
    "Question 14": {
     "name": "Question 14",
     "points": 4,
     "suites": [
      {
       "cases": [],
       "scored": true,
       "setup": "",
       "teardown": "",
       "type": "doctest"
      }
     ]
    },
    "Question 15": {
     "name": "Question 15",
     "points": 4,
     "suites": [
      {
       "cases": [],
       "scored": true,
       "setup": "",
       "teardown": "",
       "type": "doctest"
      }
     ]
    },
    "Question 16": {
     "name": "Question 16",
     "points": 4,
     "suites": [
      {
       "cases": [],
       "scored": true,
       "setup": "",
       "teardown": "",
       "type": "doctest"
      }
     ]
    },
    "Question 17": {
     "name": "Question 17",
     "points": 6,
     "suites": [
      {
       "cases": [],
       "scored": true,
       "setup": "",
       "teardown": "",
       "type": "doctest"
      }
     ]
    },
    "Question 18": {
     "name": "Question 18",
     "points": 6,
     "suites": [
      {
       "cases": [],
       "scored": true,
       "setup": "",
       "teardown": "",
       "type": "doctest"
      }
     ]
    },
    "Question 19": {
     "name": "Question 19",
     "points": 6,
     "suites": [
      {
       "cases": [],
       "scored": true,
       "setup": "",
       "teardown": "",
       "type": "doctest"
      }
     ]
    },
    "Question 20": {
     "name": "Question 20",
     "points": 6,
     "suites": [
      {
       "cases": [],
       "scored": true,
       "setup": "",
       "teardown": "",
       "type": "doctest"
      }
     ]
    },
    "Question 21": {
     "name": "Question 21",
     "points": 6,
     "suites": [
      {
       "cases": [],
       "scored": true,
       "setup": "",
       "teardown": "",
       "type": "doctest"
      }
     ]
    },
    "Question 22": {
     "name": "Question 22",
     "points": 6,
     "suites": [
      {
       "cases": [],
       "scored": true,
       "setup": "",
       "teardown": "",
       "type": "doctest"
      }
     ]
    },
    "Question 23": {
     "name": "Question 23",
     "points": 10,
     "suites": [
      {
       "cases": [],
       "scored": true,
       "setup": "",
       "teardown": "",
       "type": "doctest"
      }
     ]
    },
    "Question 24": {
     "name": "Question 24",
     "points": 10,
     "suites": [
      {
       "cases": [],
       "scored": true,
       "setup": "",
       "teardown": "",
       "type": "doctest"
      }
     ]
    }
   }
  },
  "varInspector": {
   "cols": {
    "lenName": 16,
    "lenType": 16,
    "lenVar": 40
   },
   "kernels_config": {
    "python": {
     "delete_cmd_postfix": "",
     "delete_cmd_prefix": "del ",
     "library": "var_list.py",
     "varRefreshCmd": "print(var_dic_list())"
    },
    "r": {
     "delete_cmd_postfix": ") ",
     "delete_cmd_prefix": "rm(",
     "library": "var_list.r",
     "varRefreshCmd": "cat(var_dic_list()) "
    }
   },
   "types_to_exclude": [
    "module",
    "function",
    "builtin_function_or_method",
    "instance",
    "_Feature"
   ],
   "window_display": false
  },
  "vscode": {
   "interpreter": {
    "hash": "3196968d684371006099b3d55edeef8ed90365227a30deaef86e5d4aa8519be0"
   }
  }
 },
 "nbformat": 4,
 "nbformat_minor": 4
}

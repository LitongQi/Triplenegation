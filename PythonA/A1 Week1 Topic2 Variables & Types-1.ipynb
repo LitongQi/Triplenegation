{
 "cells": [
  {
   "cell_type": "code",
   "execution_count": null,
   "metadata": {},
   "outputs": [],
   "source": [
    "import pandas as pd\n",
    "import numpy as np\n",
    "%matplotlib inline\n",
    "import otter\n",
    "grader = otter.Notebook()"
   ]
  },
  {
   "cell_type": "markdown",
   "metadata": {},
   "source": [
    "# A1 | Week 1: Practice Variables and Types\n",
    "\n",
    "------\n",
    "\n",
    "### Instructions:\n",
    "\n",
    "- Complete 50 points worth of questions to pass the assessment\n",
    "  - You can attempt any number of questions and in any order provided you pass at least 50 points.\n",
    "- Develop and check your answers in the spaces provided.\n",
    "  - Do not remove any variables other provided markings already present in the answer spaces.\n",
    "  - Do not make any changes to this notebook outside of the answer spaces provided.\n",
    "  \n",
    "#### Submitting\n",
    "\n",
    "- Upload your .ipynb file to Gradescope\n",
    "- You can submit as many times as needed\n",
    "- When reviewing results, ignore any results listed under \"Public Tests\"\n",
    "\n",
    "For more information, see the assessment page."
   ]
  },
  {
   "cell_type": "markdown",
   "metadata": {},
   "source": [
    "#### Question 1&nbsp;&nbsp;&nbsp;&nbsp;&nbsp;&nbsp;(1 Point)\n",
    "Write a Python program to calculate the length of the sentence \"I love Python Programming\" using string methods. Create a variable `output1` and assign the solution to it."
   ]
  },
  {
   "cell_type": "code",
   "execution_count": 3,
   "metadata": {
    "tags": []
   },
   "outputs": [
    {
     "name": "stdout",
     "output_type": "stream",
     "text": [
      "25\n"
     ]
    }
   ],
   "source": [
    "# Write your solution here\n",
    "txt = \"I love Python Programming\"\n",
    "output1 = len(txt)\n",
    "print(output1)\n"
   ]
  },
  {
   "cell_type": "markdown",
   "metadata": {},
   "source": [
    "#### Question 2&nbsp;&nbsp;&nbsp;&nbsp;&nbsp;&nbsp;(1 Point)\n",
    "Write a Python program to print a random integer value in the range of 1 to 10. Create a variable `output2` and assign the solution to it."
   ]
  },
  {
   "cell_type": "code",
   "execution_count": 11,
   "metadata": {
    "tags": []
   },
   "outputs": [
    {
     "name": "stdout",
     "output_type": "stream",
     "text": [
      "5\n"
     ]
    }
   ],
   "source": [
    "# Write your solution here\n",
    "import random\n",
    "output2 = random.randint(1,10)\n",
    "print(output2)\n"
   ]
  },
  {
   "cell_type": "markdown",
   "metadata": {},
   "source": [
    "#### Question 3&nbsp;&nbsp;&nbsp;&nbsp;&nbsp;&nbsp;(1 Point)\n",
    "Write a Python program to print the data type of -35.59. Create a variable `output3` and assign the solution to it."
   ]
  },
  {
   "cell_type": "code",
   "execution_count": 12,
   "metadata": {
    "tags": []
   },
   "outputs": [
    {
     "name": "stdout",
     "output_type": "stream",
     "text": [
      "<class 'float'>\n"
     ]
    }
   ],
   "source": [
    "# Write your solution here\n",
    "y = -35.59\n",
    "output3 = type(y)\n",
    "print(output3)\n"
   ]
  },
  {
   "cell_type": "markdown",
   "metadata": {},
   "source": [
    "#### Question 4&nbsp;&nbsp;&nbsp;&nbsp;&nbsp;&nbsp;(1 Point)\n",
    "Write a Python program to get the answer of $4^{20}$. Create a variable `output4` and assign the solution to it."
   ]
  },
  {
   "cell_type": "code",
   "execution_count": 13,
   "metadata": {
    "tags": []
   },
   "outputs": [
    {
     "name": "stdout",
     "output_type": "stream",
     "text": [
      "1099511627776\n"
     ]
    }
   ],
   "source": [
    "# Write your solution here\n",
    "output4 = 4 ** 20\n",
    "print(output4)\n"
   ]
  },
  {
   "cell_type": "markdown",
   "metadata": {},
   "source": [
    "#### Question 5&nbsp;&nbsp;&nbsp;&nbsp;&nbsp;&nbsp;(1 Point)\n",
    "Define one string as the word \"Problem\" and define another string as the word \"Solving\". Combine these two strings to make the statement \"Problem Solving\". Create a variable `output5` and assign the solution to it."
   ]
  },
  {
   "cell_type": "code",
   "execution_count": 15,
   "metadata": {
    "tags": []
   },
   "outputs": [
    {
     "name": "stdout",
     "output_type": "stream",
     "text": [
      "Problem Solving\n"
     ]
    }
   ],
   "source": [
    "# Write your solution here\n",
    "a = \"Problem\"\n",
    "b = \"Solving\"\n",
    "output5 = a + \" \" + b\n",
    "print(output5)\n"
   ]
  },
  {
   "cell_type": "markdown",
   "metadata": {},
   "source": [
    "#### Question 6&nbsp;&nbsp;&nbsp;&nbsp;&nbsp;&nbsp;(3 Points)\n",
    "Set the values 1 and 2 to the variables `x` and `y` (You can do this in one line in Python, if needed - see Hints). What data type is `x/y`?. Create a variable `output6` and assign the data type to it.\n",
    "\n",
    "***\n",
    "<details>\n",
    "  <summary><span style=\"color:blue\">Click to see Hints</span></summary>\n",
    "    \n",
    "* Python allows you to assign values to multiple variables in one line. e.g., `name1, name2 = \"John\", \"David\"`\n",
    "</details>"
   ]
  },
  {
   "cell_type": "code",
   "execution_count": 22,
   "metadata": {
    "tags": []
   },
   "outputs": [
    {
     "name": "stdout",
     "output_type": "stream",
     "text": [
      "<class 'float'>\n"
     ]
    }
   ],
   "source": [
    "# Write your solution here\n",
    "x, y = 1, 2\n",
    "z = x/y\n",
    "output6 = type(z)\n",
    "print(output6)\n"
   ]
  },
  {
   "cell_type": "markdown",
   "metadata": {},
   "source": [
    "#### Question 7&nbsp;&nbsp;&nbsp;&nbsp;&nbsp;&nbsp;(3 Points) \n",
    "Pick a number n to make the following statement True: (5<=n). Create a variable `output7` and assign the solution to it to show your number works."
   ]
  },
  {
   "cell_type": "code",
   "execution_count": 137,
   "metadata": {
    "tags": []
   },
   "outputs": [
    {
     "name": "stdout",
     "output_type": "stream",
     "text": [
      "True\n"
     ]
    }
   ],
   "source": [
    "# Write your solution here\n",
    "n = 5\n",
    "output7 = bool(5 <= n)\n",
    "print(output7)"
   ]
  },
  {
   "cell_type": "markdown",
   "metadata": {},
   "source": [
    "#### Question 8&nbsp;&nbsp;&nbsp;&nbsp;&nbsp;&nbsp;(3 Points) \n",
    "Write a Python program to convert the string variable `user_height = \"175\"` into an integer and get the type of the converted integer. Create a variable `output8` and assign the solution to it."
   ]
  },
  {
   "cell_type": "code",
   "execution_count": 46,
   "metadata": {
    "tags": []
   },
   "outputs": [
    {
     "name": "stdout",
     "output_type": "stream",
     "text": [
      "<class 'int'>\n"
     ]
    }
   ],
   "source": [
    "# Write your solution here\n",
    "user_height = \"175\"\n",
    "user_height_int = int(user_height)\n",
    "output8 = type(user_height_int)\n",
    "print(output8)\n"
   ]
  },
  {
   "cell_type": "markdown",
   "metadata": {},
   "source": [
    "#### Question 9&nbsp;&nbsp;&nbsp;&nbsp;&nbsp;&nbsp;(3 Points)\n",
    "Create a variable `sentence` and assign the string literal `John said \"Hello\"!` to it. Create a variable `output9` and assign the number of occurrences of double quotes (\") in `sentence` using string methods."
   ]
  },
  {
   "cell_type": "code",
   "execution_count": 55,
   "metadata": {
    "tags": []
   },
   "outputs": [
    {
     "name": "stdout",
     "output_type": "stream",
     "text": [
      "2\n"
     ]
    }
   ],
   "source": [
    "# Write your solution here\n",
    "sentence = 'John said \"Hello\"!'\n",
    "output9 = sentence.count('\"')\n",
    "print(output9)\n"
   ]
  },
  {
   "cell_type": "markdown",
   "metadata": {},
   "source": [
    "#### Question 10&nbsp;&nbsp;&nbsp;&nbsp;&nbsp;&nbsp;(3 Points)\n",
    "Write a Python program to convert a given temperature in Celsius (C) to Fahrenheit (F). First assign the value 12.19 to the `user_input` variable and convert it to a whole number (indicating the temperature in Celsius). Use the following formular to convert the celsius value into fahrenheit. Create a variable `output10` and assign the fahrenheit value to it.\n",
    "\n",
    "$F=\\frac{9}{5}C+32$"
   ]
  },
  {
   "cell_type": "code",
   "execution_count": 56,
   "metadata": {
    "tags": []
   },
   "outputs": [
    {
     "name": "stdout",
     "output_type": "stream",
     "text": [
      "53.6\n"
     ]
    }
   ],
   "source": [
    "# Write your solution here\n",
    "user_input = 12.19\n",
    "user_input_int = int(user_input)\n",
    "output10 = 9/5 * user_input_int + 32\n",
    "print(output10)\n"
   ]
  },
  {
   "cell_type": "markdown",
   "metadata": {},
   "source": [
    "#### Question 11&nbsp;&nbsp;&nbsp;&nbsp;&nbsp;&nbsp;(4 Points)\n",
    "Write a Python program to convert \"thE universiTy OF adelaiDE\" to \"The University Of Adelaide\" using string built-in methods. Create a variable `output11` and assign the solution to it.\n",
    "\n",
    "***\n",
    "\n",
    "<details>\n",
    "  <summary><span style=\"color:blue\">Click to see Hints</span></summary>\n",
    "  1. First convert all the letters in the string to lowercase.\n",
    "  2. To captalise the first letter in each word you will need to use the Python title() function. Use the built-in Python help() function to look up how to use title().\n",
    "</details>"
   ]
  },
  {
   "cell_type": "code",
   "execution_count": 2,
   "metadata": {
    "tags": []
   },
   "outputs": [
    {
     "name": "stdout",
     "output_type": "stream",
     "text": [
      "The University Of Adelaide\n"
     ]
    }
   ],
   "source": [
    "# Write your solution here\n",
    "a = \"thE universiTy OF adelaiDE\"\n",
    "b = a.lower()\n",
    "output11 = b.title()\n",
    "print(output11)\n"
   ]
  },
  {
   "cell_type": "markdown",
   "metadata": {},
   "source": [
    "#### Question 12&nbsp;&nbsp;&nbsp;&nbsp;&nbsp;&nbsp;(4 Points)\n",
    "The sentence `Python 3.10.1, documentation released on 6 December 2021` contains alphabetical characters (a-z), numbers (0-9), symbols (.,). Write a Python program to check the existence of alphabetical characters, numbers and symbols as described below using string methods.\n",
    "1. Check if all the characters in the sentence are letters. Create a variable `output12_i` and assign the solution to it. [Expected output: False]\n",
    "2. Check if all the characters in the sentence are numbers. Create a variable `output12_ii` and assign the solution to it. [Expected output: False]\n",
    "3. Check if the sentence only contains alphanumeric characters - letters and numbers (example of characters that are not alphanumeric are (space)! # % & ? etc.). Create a variable `output12_iii` and assign the solution to it. [Expected output: False]\n",
    "\n",
    "***\n",
    "\n",
    "<details>\n",
    "  <summary><span style=\"color:blue\">Click to see Hints</span></summary>\n",
    "  * You will need to use the Python string methods such as isalpha(), isnumeric(), and isalnum(). If you need more information on them, use ?str.x or help(str.x) where x is a string method.\n",
    "</details>"
   ]
  },
  {
   "cell_type": "code",
   "execution_count": 15,
   "metadata": {
    "tags": []
   },
   "outputs": [
    {
     "name": "stdout",
     "output_type": "stream",
     "text": [
      "False\n",
      "False\n",
      "False\n"
     ]
    }
   ],
   "source": [
    "# Write your solution here\n",
    "txt = \"Python 3.10.1, documentation released on 6 December 2021\"\n",
    "output12_i = txt.isalpha()\n",
    "print(output12_i)\n",
    "output12_ii = txt.isdigit()\n",
    "print(output12_ii)\n",
    "output12_iii = txt.isalnum()\n",
    "print(output12_iii)"
   ]
  },
  {
   "cell_type": "markdown",
   "metadata": {},
   "source": [
    "#### Question 13&nbsp;&nbsp;&nbsp;&nbsp;&nbsp;&nbsp;(4 Points)\n",
    "Euler's number, `e`, can be called in Python using `from math import e`,  \n",
    "1. Round down `e` to the nearest integer. Create a variable `output13_i` and assign the solution to it.\n",
    "2. Round `e` to the 2 decimal places. Create a variable `output13_ii` and assign the solution to it.\n",
    "3. Round `e` to the 1 decimal place. Create a variable `output13_iii` and assign the solution to it."
   ]
  },
  {
   "cell_type": "code",
   "execution_count": 35,
   "metadata": {
    "tags": []
   },
   "outputs": [
    {
     "name": "stdout",
     "output_type": "stream",
     "text": [
      "2\n",
      "2.72\n",
      "2.7\n"
     ]
    }
   ],
   "source": [
    "# Write your solution here\n",
    "from math import e\n",
    "import math\n",
    "\n",
    "output13_i = math.floor(e)\n",
    "print(output13_i)\n",
    "output13_ii = round(e,2)\n",
    "print(output13_ii)\n",
    "output13_iii = round (e,1)\n",
    "print(output13_iii)"
   ]
  },
  {
   "cell_type": "markdown",
   "metadata": {},
   "source": [
    "#### Question 14&nbsp;&nbsp;&nbsp;&nbsp;&nbsp;&nbsp;(4 Points)\n",
    "Delete all empty spaces, commas and full stops in the following string \"mnlk gh ,.hj milew, ....,, imn,.,., \" using string methods. Create a variable `output14` and assign the solution to it.\n",
    "\n",
    "***\n",
    "\n",
    "<details>\n",
    "   <summary><span style=\"color:blue\">Click to see Hints</span></summary>\n",
    "  * You will need to use the Python replace() method to perform this.\n",
    "</details>"
   ]
  },
  {
   "cell_type": "code",
   "execution_count": 67,
   "metadata": {
    "tags": []
   },
   "outputs": [
    {
     "name": "stdout",
     "output_type": "stream",
     "text": [
      "mnlkghhjmilewimn\n"
     ]
    }
   ],
   "source": [
    "# Write your solution here\n",
    "txt = \"mnlk gh ,.hj milew, ....,, imn,.,., \"\n",
    "output14 = txt.replace(',', '').replace(' ', '').replace('.', '')\n",
    "print(output14)\n"
   ]
  },
  {
   "cell_type": "markdown",
   "metadata": {},
   "source": [
    "#### Question 15 &nbsp;&nbsp;&nbsp;&nbsp;&nbsp;&nbsp;(4 Points) \n",
    "Mentioned below is an extract taken from the follwoing Wikipedia page: https://en.wikipedia.org/wiki/Python_(programming_language)\n",
    "\n",
    "`Python is an interpreted high-level general-purpose programming language. Its design philosophy emphasises code readability with its use of significant indentation. Its language constructs as well as its object-oriented approach aim to help programmers write clear, logical code for small and large-scale projects. Python is dynamically-typed and garbage-collected. It supports multiple programming paradigms, including structured (particularly, procedural), object-oriented and functional programming. It is often described as a \"batteries included\" language due to its comprehensive standard library. Python consistently ranks as one of the most popular programming languages.`\n",
    "\n",
    "1. Create a variable `python_details` and assign the the above-mentioned extract to it.\n",
    "2. Check if the phrase `dynamically-typed` is in `python_details`. Create a variable `output15_i` and assign the solution to it. [Expected output: True]\n",
    "3. Check if the phrase `large scale project` is in `python_details`. Create a variable `output15_ii` and assign the solution to it. [Expected output: False]\n",
    "4. Check if the phrase `Java` is NOT in `python_details`. Create a variable `output15_iii` and assign the solution to it. [Expected output: True] \n",
    "\n",
    "***\n",
    "\n",
    "<details>\n",
    "   <summary><span style=\"color:blue\">Click to see Hints</span></summary>\n",
    "\n",
    "    * To check if a given phrase or character is present in a string, use the keyword `in`.\n",
    "    * To check if a given phrase or character is NOT present in a string, use the keyword `not in`.\n",
    "</details>"
   ]
  },
  {
   "cell_type": "code",
   "execution_count": 85,
   "metadata": {
    "tags": []
   },
   "outputs": [
    {
     "name": "stdout",
     "output_type": "stream",
     "text": [
      "True\n",
      "False\n",
      "True\n"
     ]
    }
   ],
   "source": [
    "# Write your solution here\n",
    "python_details = 'Python is an interpreted high-level general-purpose programming language. Its design philosophy emphasises code readability with its use of significant indentation. Its language constructs as well as its object-oriented approach aim to help programmers write clear, logical code for small and large-scale projects. Python is dynamically-typed and garbage-collected. It supports multiple programming paradigms, including structured (particularly, procedural), object-oriented and functional programming. It is often described as a \"batteries included\" language due to its comprehensive standard library. Python consistently ranks as one of the most popular programming languages.'\n",
    "output15_i = 'dynamically-typed' in python_details\n",
    "output15_ii = 'large scale project' in python_details\n",
    "output15_iii = 'Java' not in python_details\n",
    "print(output15_i, output15_ii, output15_iii, sep=\"\\n\")\n"
   ]
  },
  {
   "cell_type": "markdown",
   "metadata": {},
   "source": [
    "#### Question 16 &nbsp;&nbsp;&nbsp;&nbsp;&nbsp;&nbsp;(4 Points)\n",
    "Convert the string `10, 612, 419.001` to the output `10.612.419, 001`. Create a variable `output16` and assign the solution to it."
   ]
  },
  {
   "cell_type": "code",
   "execution_count": 136,
   "metadata": {
    "tags": []
   },
   "outputs": [],
   "source": [
    "# Write your solution here\n",
    "txt = \"10, 612, 419.001\"\n"
   ]
  },
  {
   "cell_type": "markdown",
   "metadata": {},
   "source": [
    "#### Question 17 &nbsp;&nbsp;&nbsp;&nbsp;&nbsp;&nbsp;(6 Points)\n",
    "Given the sentence `hEY! i DON'T REMEMBER YOUR nAME, sORRY! wHAT WAS IT AGAIn?`: \n",
    "\n",
    "1. Make the lower case letters upper case and the upper case letters lower case in the above sentence. Create a variable `correct_txt` and assign the solution to it. [Expected Output: Hey! I don't remember your Name, Sorry! What was it agaiN?]\n",
    "<details>\n",
    "  <summary><span style=\"color:blue\">Click to see Hints</span></summary>\n",
    "  * You will need to use swapcase() string method to perform this.\n",
    "</details>\n",
    "\n",
    "2. Find the number of times the letter `n` appears in the `correct_txt` using string methods and assign it to the variable `count_n`\n",
    "3. Change `correct_txt` to lowercase. Now the string in `correct_txt` should be all lowercase. Count the number of times the letter `n` appears in it. Create variable `count_n_new` and assign the solution to it.\n",
    "4. Set the variable `user_name` to David. Append the `user_name` three times (using string operations) in a new line of `correct_txt` and assign it to the `updated_txt` variable. The `updated_txt` should looks like below.\n",
    "hey! i don't remember your name, sorry! what was it again?<br>\n",
    "David David David\n",
    "\n",
    "5. Convert all the letters in `updated_txt` to uppercase, and assign the solution to `output17_i` variable.\n",
    "6. Check whether the word \"sorry\" is in `output17_i` using string methods, and assign the solution to `output17_ii` variable. [Expected output: False]\n",
    "<details>\n",
    "  <summary><span style=\"color:blue\">Click to see Hints</span></summary>\n",
    "  * You will need to use the keyword `in` to perform this, as you saw in question 15.\n",
    "</details>"
   ]
  },
  {
   "cell_type": "code",
   "execution_count": null,
   "metadata": {
    "tags": []
   },
   "outputs": [],
   "source": [
    "# Write your solution here\n",
    "txt = \"hEY! i DON'T REMEMBER YOUR nAME, sORRY! wHAT WAS IT AGAIn?\"\n"
   ]
  },
  {
   "cell_type": "markdown",
   "metadata": {},
   "source": [
    "#### Question 18 &nbsp;&nbsp;&nbsp;&nbsp;&nbsp;&nbsp;(6 Points)\n",
    "In addition to the *int* and *float* that we learnt in Week 1, Python also has one other numeric type called\n",
    "*complex numbers*. Complex numbers are written with a \"j\" as the imaginary part (e.g., *3+5j*).\n",
    "1. Create a variable `myfirstcomplex` and assign the value `2+5j` to it.\n",
    "2. Create a variable `type_of_myfirstcomplex`  and assign the type of `myfirstcomplex`.\n",
    "3. Convert the int number 5 to a complex number and assign the solution to the `output18_i` variable. Print the type of `output18_i` to verify that it's a complex number.\n",
    "4. Convert the float number 12.91 to a complex number and assign the solution to the `output18_ii` variable. Print the type of `output18_ii` to verify that it's a complex number.\n",
    "\n",
    "***\n",
    "<details>\n",
    "  <summary><span style=\"color:blue\">Click to see Hints</span></summary>\n",
    "\n",
    "Python supports three types of numbers – int, float, and complex.\n",
    "    \n",
    "* Use `complex()` to convert an integer or a float into a complex number in Python.\n",
    "\n",
    "</details>\n"
   ]
  },
  {
   "cell_type": "code",
   "execution_count": null,
   "metadata": {
    "tags": []
   },
   "outputs": [],
   "source": [
    "# Write your solution here\n",
    "\n"
   ]
  },
  {
   "cell_type": "markdown",
   "metadata": {},
   "source": [
    "#### Question 19 &nbsp;&nbsp;&nbsp;&nbsp;&nbsp;&nbsp;(6 Points)\n",
    "Write a Python program to convert timefrom 24 hours clock to 12 hours clock as described below. \n",
    "1. What is `20` o'clock of 24 hours clock in 12 hours clock. Create a variable `convertedtime1` and assign the solution to it. [Expected output: 8]\n",
    "2. Help poor typist who have mistakenly entered `-19` by removing the negative mark programmatically since time cannot be negative. Then convert this time to 12 hours clock and assign the solution to `convertedtime2` variable.\n",
    "3. Convert the time `21` to 12 hours clock. Create a variable `convertedtime3` and assign solution to it.\n",
    "4. Check if the time in `convertedtime3`is an odd number programmatically. Use bool() to convert the decision to a boolean. Create a variable `output19` and assign the boolean value to it. [Expected output: True]\n",
    "***\n",
    "<details>\n",
    "  <summary><span style=\"color:blue\">Click to see Hints</span></summary>\n",
    "    \n",
    "1. You will need to use the modulo operation (`%`) to convert the time from 24 hours clock to 12 hours clock as well as to check if the time is odd or even. The modulo operation is an arithmetic operation that finds the remainder of the division of one number by another. The remainder is called the modulus of the operation. <br>\n",
    "e.g., 9 divided by 2 equals 4, with a remainder of 1\n",
    "    \n",
    "2. To remove the negative mark, you will need to use built-in `abs()` function.\n",
    "</details>"
   ]
  },
  {
   "cell_type": "code",
   "execution_count": null,
   "metadata": {
    "tags": []
   },
   "outputs": [],
   "source": [
    "# Write your solution here\n",
    "\n"
   ]
  },
  {
   "cell_type": "markdown",
   "metadata": {},
   "source": [
    "#### Question 20 &nbsp;&nbsp;&nbsp;&nbsp;&nbsp;&nbsp;(6 Points)\n",
    "Write a Python progarmme to convert time seconds, minutes, hours and days as described below. \n",
    "\n",
    "1. Convert `303 seconds` to minutes and seconds (e.g., `191 seconds` is `3` minutes and `11` seconds). Create variables `output20_i_minutes` and `output_i_seconds` and assign the number of minutes (int) and number of seconds (int) to these two variables, respectively.\n",
    "\n",
    "<details>\n",
    "  <summary><span style=\"color:blue\">Click to see Hints</span></summary>\n",
    "    \n",
    "1. You will need to use the integer division operation to obtain the number of minutes. \n",
    "\n",
    "2. You will need to use the modulo operation to obtain the number of seconds.\n",
    "</details>\n",
    "\n",
    "\n",
    "2. Convert `1909 hours` to days and hours. Create variables `output20_ii_days` and `output20_ii_hours` and assign the number of days (int) and number of hours (int) to these variables, respectively."
   ]
  },
  {
   "cell_type": "code",
   "execution_count": null,
   "metadata": {
    "tags": []
   },
   "outputs": [],
   "source": [
    "# Write your solution here\n",
    "\n"
   ]
  },
  {
   "cell_type": "markdown",
   "metadata": {},
   "source": [
    "#### Question 21 &nbsp;&nbsp;&nbsp;&nbsp;&nbsp;&nbsp;(6 Points)\n",
    "Create a variable `txt` and assign the following sentence to it: \n",
    "```\n",
    "\"          \\n   \\t   In this week we learnt about \"Environments\" and \"Variables & Types\" in Python! \\n \\n     \"\n",
    "```\n",
    "\n",
    "1. In `txt`, remove all spaces at the beginning and at the end of the string using built-in functions, and assign the solution to `output21_i`. Use string length of `txt` and `output21_i` to compare the diffrenece (*length of `txt` is 105 and length of `output21_i` should be 78*).\n",
    "2. In `txt`, remove all spaces at the beginning the string using built-in functions, and assign the solution to `output21_ii`. Use string length `output21_ii` to compare the diffrenece (*length of `output21_ii` should be 87*).\n",
    "3. In `txt`, remove all spaces at the end of the string using built-in functions, and assign the solution to `output21_iii`.  Use string length `output21_iii` to compare the diffrenece (*length of `output21_iii` should be 96*).\n",
    "4. In `txt`, replace all empty spaces with `&` using built-in functions, and assign the solution to `output21_iv`. [Expected output: &&&&&&&&&&&&&&&&&&In&this&week&we&learnt&about&\"Environments\"&and&\"Variables&&&Types\"&in&Python!&&&&&&&&&]\n",
    "\n",
    "<details>\n",
    "  <summary><span style=\"color:blue\">Click to see Hints for 1, 2, 3 & 4</span></summary>\n",
    "\n",
    "* `strip()` function removes any leading (spaces at the beginning) and trailing (spaces at the end) characters (space is the default leading character to remove).\n",
    "* `lstrip()` function removes any leading characters (space is the default leading character to remove).\n",
    "* `rstrip()` function removes any trailing characters (space is the default leading character to remove).\n",
    "* use `replace()` to perform this.\n",
    "    \n",
    "If you need more information on them, use `?` or `help()`.\n",
    "\n",
    "</details>\n",
    "\n",
    "5. Check if `txt` starts with `in`. Create the variable `output21_v` and assign the solution to it.\n",
    "6. Check if `txt` ends with `Python!`. Create the variable `output21_vi` and assign the solution to it.\n",
    "\n",
    "<details>\n",
    "  <summary><span style=\"color:blue\">Click to see Hints for 5 & 6</span></summary>\n",
    "\n",
    "* You will need to use startswith() and endswith() methods. If you need more information on them, use `?` or `help()`.\n",
    "\n",
    "</details>"
   ]
  },
  {
   "cell_type": "code",
   "execution_count": 151,
   "metadata": {
    "tags": []
   },
   "outputs": [
    {
     "name": "stdout",
     "output_type": "stream",
     "text": [
      "105\n",
      "In this week we learnt about \"Environments\" and \"Variables & Types\" in Python!\n",
      "In this week we learnt about \"Environments\" and \"Variables & Types\" in Python! \n",
      " \n",
      "     \n",
      "          \n",
      "   \t   In this week we learnt about \"Environments\" and \"Variables & Types\" in Python!\n",
      "&&&&&&&&&&&&&&&&In&this&week&we&learnt&about&\"Environments\"&and&\"Variables&&&Types\"&in&Python!&&&&&&&\n",
      "False\n",
      "False\n"
     ]
    },
    {
     "ename": "AttributeError",
     "evalue": "'int' object has no attribute 'difference'",
     "output_type": "error",
     "traceback": [
      "\u001b[0;31m---------------------------------------------------------------------------\u001b[0m",
      "\u001b[0;31mAttributeError\u001b[0m                            Traceback (most recent call last)",
      "Input \u001b[0;32mIn [151]\u001b[0m, in \u001b[0;36m<cell line: 13>\u001b[0;34m()\u001b[0m\n\u001b[1;32m     11\u001b[0m a \u001b[38;5;241m=\u001b[39m \u001b[38;5;28mlen\u001b[39m(txt)\n\u001b[1;32m     12\u001b[0m b \u001b[38;5;241m=\u001b[39m \u001b[38;5;28mlen\u001b[39m(output21_i)\n\u001b[0;32m---> 13\u001b[0m c \u001b[38;5;241m=\u001b[39m \u001b[43ma\u001b[49m\u001b[38;5;241;43m.\u001b[39;49m\u001b[43mdifference\u001b[49m(b)\n\u001b[1;32m     14\u001b[0m \u001b[38;5;28mprint\u001b[39m(c)\n",
      "\u001b[0;31mAttributeError\u001b[0m: 'int' object has no attribute 'difference'"
     ]
    }
   ],
   "source": [
    "# Write your solution here\n",
    "txt = '          \\n   \\t   In this week we learnt about \"Environments\" and \"Variables & Types\" in Python! \\n \\n     '\n",
    "print(len(txt))\n",
    "output21_i = txt.lstrip().rstrip()\n",
    "output21_ii = txt.lstrip()\n",
    "output21_iii = txt.rstrip()\n",
    "output21_iv = txt.replace(' ', '&').replace('\\n', '&').replace('\\t', '&')\n",
    "output21_v = txt.startswith('in')\n",
    "output21_vi = txt.endswith('Python!')\n",
    "print(output21_i, output21_ii, output21_iii, output21_iv, output21_v, output21_vi, sep=\"\\n\")\n"
   ]
  },
  {
   "cell_type": "markdown",
   "metadata": {},
   "source": [
    "#### Question 22 &nbsp;&nbsp;&nbsp;&nbsp;&nbsp;&nbsp;(6 Points)\n",
    "Write a Python Program to calculate the following.\n",
    "1. Write a python program to generate three random int numbers between 1 and 10000 and assign them to the variables `output22_num1`, `output22_num2` and `output22_num3`.\n",
    "2. Use these three numbers to sort them in increasing order. To do so, first find the minimum and maximum numbers using min() and max() methods. Create the two variables `output22_min` and `output22_max` and assign the solutions to them. Then find the middle number using arithmetic operations and assign the solution to `output22_mid`. From the above variables derived the following string: `The numbers in increasing order: min_num, mid_num, max_num` and assign it to the variable `output22`. \n",
    "\n",
    "\n",
    "*(Note: `min_num`, `midd_num`, `max_num` in the given string are the numbers you derived in `output22_min`, `output22_mid`, `output22_max`)*.\n",
    "\n",
    "***\n",
    "<details>\n",
    "  <summary><span style=\"color:blue\">Click to see Hints</span></summary>\n",
    "    \n",
    "* To find the middle number using arithmetic operations, you will need to get the sum of the three numbers and reduce the minimum and maximum nubers from it. e.g., sum_of_three_numbers - min_num - max_num\n",
    "</details>"
   ]
  },
  {
   "cell_type": "code",
   "execution_count": null,
   "metadata": {
    "tags": []
   },
   "outputs": [],
   "source": [
    "# Write your solution here\n",
    "import random\n"
   ]
  },
  {
   "cell_type": "markdown",
   "metadata": {},
   "source": [
    "#### Question 23 &nbsp;&nbsp;&nbsp;&nbsp;&nbsp;&nbsp;(10 Points)\n",
    "Write a Python program to convert `219991 seconds` into days, hours, minutes and seconds. Create variables `output23_i_days`, `output23_i_hours`, `output23_i_minutes` and `output23_i_seconds` and assign the number of days (int), number of hours (int), number of minutes (int) and number of seconds (int) to these variables, respectively. "
   ]
  },
  {
   "cell_type": "code",
   "execution_count": null,
   "metadata": {
    "tags": []
   },
   "outputs": [],
   "source": [
    "# Write your solution here\n",
    "time = 219991\n"
   ]
  },
  {
   "cell_type": "markdown",
   "metadata": {},
   "source": [
    "#### Question 24 &nbsp;&nbsp;&nbsp;&nbsp;&nbsp;&nbsp;(10 Points)\n",
    "Date in Python is not a data type of its own, but we can import a module named `datetime` to work with dates. Write a Python Program to calculate the following.\n",
    "1. Use Python's `datetime` module to represent the date 4th of February 2020 and 19th of February 2021 in the following format of `year-month-day`. Create variables `output24_i` and `output24_ii` and assign the two dates, respectively. Print the types of `output24_i` and `output24_ii`. \n",
    "2. Calculate the number of days between `output24_i` and `output24_ii` and assign the solution to the variable `output24_iii`.\n",
    "3. Use the above-mentioned variables to derive a string in the following format: `The number of days between 4th of February 2020 and 19th of February 2021 is 381 days`. Create a variable `output24_iv` and assign the solution to it.\n",
    "4. Use the above-mentioned variables to derive a string in the following format: `The number of hours between 4th of February 2020 and 19th of February 2021 is 9144 hours`. Create a variable `output24` and assign the solution to it.\n",
    "\n",
    "***\n",
    "<details>\n",
    "  <summary><span style=\"color:blue\">Click to see Hints</span></summary>\n",
    "    \n",
    "* Date in Python is not a data type of its own, but we can import a module named `datetime` to work with dates. \n",
    "* Same as you did with `math` module, you can import `datetime` module as `import datetime`\n",
    "* To represent a date you can use: `datetime.date(2021, 2, 4)`\n",
    "* To get the diffrence between two time perod you can simply do the following `difference = datetime.date(2021, 12, 1) - datetime.date(2021, 12, 20)`. To get only the days part of the output, use `difference.days`.\n",
    "</details>\n"
   ]
  },
  {
   "cell_type": "code",
   "execution_count": 134,
   "metadata": {
    "tags": []
   },
   "outputs": [
    {
     "name": "stdout",
     "output_type": "stream",
     "text": [
      "2020-02-04\n",
      "2021-02-19\n",
      "381\n",
      "The number of days between 4th of February 2020 and 19th of February 2021 is 381 days\n",
      "The number of days between 4th of February 2020 and 19th of February 2021 is 9144 hours\n"
     ]
    }
   ],
   "source": [
    "# Write your solution here\n",
    "import datetime, calendar\n",
    "output24_i = datetime.date(2020, 2, 4)\n",
    "output24_ii = datetime.date(2021, 2, 19)\n",
    "output24_iii = output24_i - output24_ii\n",
    "output24_iii = abs(output24_iii.days)\n",
    "output24_iv = \"The number of days between \" + str(output24_i.day) + \"th of \" + str(calendar.month_name[output24_i.month]) + \" \" + str(output24_i.year) + \" and \" + str(output24_ii.day) + \"th of \" + str(calendar.month_name[output24_ii.month]) + \" \" + str(output24_ii.year) + \" is \" + str(output24_iii) + \" days\"\n",
    "hours = output24_iii * 24\n",
    "output24 = \"The number of hours between \" + str(output24_i.day) + \"th of \" + str(calendar.month_name[output24_i.month]) + \" \" + str(output24_i.year) + \" and \" + str(output24_ii.day) + \"th of \" + str(calendar.month_name[output24_ii.month]) + \" \" + str(output24_ii.year) + \" is \" + str(hours) + \" hours\"\n",
    "print(output24_i, output24_ii, output24_iii, output24_iv, output24, sep=\"\\n\")\n"
   ]
  }
 ],
 "metadata": {
  "celltoolbar": "Edit Metadata",
  "kernelspec": {
   "display_name": "Python 3.10.6 64-bit",
   "language": "python",
   "name": "python3"
  },
  "language_info": {
   "codemirror_mode": {
    "name": "ipython",
    "version": 3
   },
   "file_extension": ".py",
   "mimetype": "text/x-python",
   "name": "python",
   "nbconvert_exporter": "python",
   "pygments_lexer": "ipython3",
   "version": "3.10.6"
  },
  "otter": {
   "tests": {
    "Question 01": {
     "name": "Question 01",
     "points": 1,
     "suites": [
      {
       "cases": [],
       "scored": true,
       "setup": "",
       "teardown": "",
       "type": "doctest"
      }
     ]
    },
    "Question 02": {
     "name": "Question 02",
     "points": 1,
     "suites": [
      {
       "cases": [],
       "scored": true,
       "setup": "",
       "teardown": "",
       "type": "doctest"
      }
     ]
    },
    "Question 03": {
     "name": "Question 03",
     "points": 1,
     "suites": [
      {
       "cases": [],
       "scored": true,
       "setup": "",
       "teardown": "",
       "type": "doctest"
      }
     ]
    },
    "Question 04": {
     "name": "Question 04",
     "points": 1,
     "suites": [
      {
       "cases": [],
       "scored": true,
       "setup": "",
       "teardown": "",
       "type": "doctest"
      }
     ]
    },
    "Question 05": {
     "name": "Question 05",
     "points": 1,
     "suites": [
      {
       "cases": [],
       "scored": true,
       "setup": "",
       "teardown": "",
       "type": "doctest"
      }
     ]
    },
    "Question 06": {
     "name": "Question 06",
     "points": 3,
     "suites": [
      {
       "cases": [],
       "scored": true,
       "setup": "",
       "teardown": "",
       "type": "doctest"
      }
     ]
    },
    "Question 07": {
     "name": "Question 07",
     "points": 3,
     "suites": [
      {
       "cases": [],
       "scored": true,
       "setup": "",
       "teardown": "",
       "type": "doctest"
      }
     ]
    },
    "Question 08": {
     "name": "Question 08",
     "points": 3,
     "suites": [
      {
       "cases": [],
       "scored": true,
       "setup": "",
       "teardown": "",
       "type": "doctest"
      }
     ]
    },
    "Question 09": {
     "name": "Question 09",
     "points": 3,
     "suites": [
      {
       "cases": [],
       "scored": true,
       "setup": "",
       "teardown": "",
       "type": "doctest"
      }
     ]
    },
    "Question 10": {
     "name": "Question 10",
     "points": 3,
     "suites": [
      {
       "cases": [],
       "scored": true,
       "setup": "",
       "teardown": "",
       "type": "doctest"
      }
     ]
    },
    "Question 11": {
     "name": "Question 11",
     "points": 4,
     "suites": [
      {
       "cases": [],
       "scored": true,
       "setup": "",
       "teardown": "",
       "type": "doctest"
      }
     ]
    },
    "Question 12": {
     "name": "Question 12",
     "points": 4,
     "suites": [
      {
       "cases": [],
       "scored": true,
       "setup": "",
       "teardown": "",
       "type": "doctest"
      }
     ]
    },
    "Question 13": {
     "name": "Question 13",
     "points": 4,
     "suites": [
      {
       "cases": [],
       "scored": true,
       "setup": "",
       "teardown": "",
       "type": "doctest"
      }
     ]
    },
    "Question 14": {
     "name": "Question 14",
     "points": 4,
     "suites": [
      {
       "cases": [],
       "scored": true,
       "setup": "",
       "teardown": "",
       "type": "doctest"
      }
     ]
    },
    "Question 15": {
     "name": "Question 15",
     "points": 4,
     "suites": [
      {
       "cases": [],
       "scored": true,
       "setup": "",
       "teardown": "",
       "type": "doctest"
      }
     ]
    },
    "Question 16": {
     "name": "Question 16",
     "points": 4,
     "suites": [
      {
       "cases": [],
       "scored": true,
       "setup": "",
       "teardown": "",
       "type": "doctest"
      }
     ]
    },
    "Question 17": {
     "name": "Question 17",
     "points": 6,
     "suites": [
      {
       "cases": [],
       "scored": true,
       "setup": "",
       "teardown": "",
       "type": "doctest"
      }
     ]
    },
    "Question 18": {
     "name": "Question 18",
     "points": 6,
     "suites": [
      {
       "cases": [],
       "scored": true,
       "setup": "",
       "teardown": "",
       "type": "doctest"
      }
     ]
    },
    "Question 19": {
     "name": "Question 19",
     "points": 6,
     "suites": [
      {
       "cases": [],
       "scored": true,
       "setup": "",
       "teardown": "",
       "type": "doctest"
      }
     ]
    },
    "Question 20": {
     "name": "Question 20",
     "points": 6,
     "suites": [
      {
       "cases": [],
       "scored": true,
       "setup": "",
       "teardown": "",
       "type": "doctest"
      }
     ]
    },
    "Question 21": {
     "name": "Question 21",
     "points": 6,
     "suites": [
      {
       "cases": [],
       "scored": true,
       "setup": "",
       "teardown": "",
       "type": "doctest"
      }
     ]
    },
    "Question 22": {
     "name": "Question 22",
     "points": 6,
     "suites": [
      {
       "cases": [],
       "scored": true,
       "setup": "",
       "teardown": "",
       "type": "doctest"
      }
     ]
    },
    "Question 23": {
     "name": "Question 23",
     "points": 10,
     "suites": [
      {
       "cases": [],
       "scored": true,
       "setup": "",
       "teardown": "",
       "type": "doctest"
      }
     ]
    },
    "Question 24": {
     "name": "Question 24",
     "points": 10,
     "suites": [
      {
       "cases": [],
       "scored": true,
       "setup": "",
       "teardown": "",
       "type": "doctest"
      }
     ]
    }
   }
  },
  "varInspector": {
   "cols": {
    "lenName": 16,
    "lenType": 16,
    "lenVar": 40
   },
   "kernels_config": {
    "python": {
     "delete_cmd_postfix": "",
     "delete_cmd_prefix": "del ",
     "library": "var_list.py",
     "varRefreshCmd": "print(var_dic_list())"
    },
    "r": {
     "delete_cmd_postfix": ") ",
     "delete_cmd_prefix": "rm(",
     "library": "var_list.r",
     "varRefreshCmd": "cat(var_dic_list()) "
    }
   },
   "types_to_exclude": [
    "module",
    "function",
    "builtin_function_or_method",
    "instance",
    "_Feature"
   ],
   "window_display": false
  },
  "vscode": {
   "interpreter": {
    "hash": "3196968d684371006099b3d55edeef8ed90365227a30deaef86e5d4aa8519be0"
   }
  }
 },
 "nbformat": 4,
 "nbformat_minor": 4
}

{
 "cells": [
  {
   "cell_type": "markdown",
   "id": "a6609893-0df4-4459-be57-c7b24d73d822",
   "metadata": {},
   "source": [
    "# E | Module Test"
   ]
  },
  {
   "cell_type": "markdown",
   "id": "4757f617-5fe5-4a85-895e-e1c958b50fcf",
   "metadata": {},
   "source": [
    "## Question 1: Complexity & Big O Notation"
   ]
  },
  {
   "cell_type": "code",
   "execution_count": 1,
   "id": "dbc8d2ed-387a-4fde-8200-897857a9df0c",
   "metadata": {},
   "outputs": [],
   "source": [
    "import random\n",
    "\n",
    "n = 256\n",
    "X_RES, Y_RES = (n, n)\n",
    "\n",
    "pixel_data = [[0 for x in range(X_RES)] for y in range(Y_RES)] \n",
    "\n",
    "def preprocess_origin (data):\n",
    "    '''\n",
    "    Mark the origin.\n",
    "    '''\n",
    "    pixel_data [0][0] = 1\n",
    "\n",
    "def preprocess_noise (data, x = 1):\n",
    "    '''\n",
    "    Add noise value.\n",
    "    '''\n",
    "    n = random.uniform(1.5, 1.9)\n",
    "    for y in data:\n",
    "        y[x] = x + n\n",
    "    \n",
    "preprocess_origin(pixel_data)\n",
    "\n",
    "for x in range(1, X_RES):\n",
    "    preprocess_noise (pixel_data, x)"
   ]
  },
  {
   "cell_type": "code",
   "execution_count": null,
   "id": "dc5e1bc9-e074-4810-a8fa-9fc42efaf236",
   "metadata": {},
   "outputs": [],
   "source": [
    "# Write your solution (and explanation of your logic) here in plain text.\n",
    "...\n"
   ]
  },
  {
   "cell_type": "markdown",
   "id": "d97f20ad-6913-4c93-a749-e1b0056060e7",
   "metadata": {},
   "source": [
    "## Question 2: Recursion"
   ]
  },
  {
   "cell_type": "code",
   "execution_count": 2,
   "id": "390c6b9c-ee7f-4681-aad5-d57172a6b686",
   "metadata": {},
   "outputs": [
    {
     "data": {
      "text/plain": [
       "True"
      ]
     },
     "execution_count": 2,
     "metadata": {},
     "output_type": "execute_result"
    }
   ],
   "source": [
    "def contains(number, pattern, start =0, count = 0, output = False):\n",
    "    \n",
    "    # Write your solution here\n",
    "    n = len(pattern)\n",
    "    if (start +n)> len(number):\n",
    "        return output\n",
    "    if number[start: (start + n )] == pattern:\n",
    "        output = True\n",
    "        count += 1\n",
    "        start += 1\n",
    "        return contains(number, pattern, start, count, output)\n",
    "    else:\n",
    "        start += 1\n",
    "        return contains(number, pattern, start, count, output)\n",
    "\n",
    "contains('10111','11')\n",
    "    "
   ]
  },
  {
   "cell_type": "code",
   "execution_count": 11,
   "id": "6deb1dba-58cb-48be-9868-99a8edbef436",
   "metadata": {},
   "outputs": [
    {
     "data": {
      "text/plain": [
       "True"
      ]
     },
     "execution_count": 11,
     "metadata": {},
     "output_type": "execute_result"
    }
   ],
   "source": [
    "contains(\"1011\", \"1\")\n"
   ]
  },
  {
   "cell_type": "code",
   "execution_count": 10,
   "id": "0c8a84df",
   "metadata": {},
   "outputs": [
    {
     "data": {
      "text/plain": [
       "False"
      ]
     },
     "execution_count": 10,
     "metadata": {},
     "output_type": "execute_result"
    }
   ],
   "source": [
    "contains(\"101110111\", \"01011\")\n"
   ]
  },
  {
   "cell_type": "markdown",
   "id": "87c892bd-e4c6-4d66-963b-d61fd55b33ce",
   "metadata": {},
   "source": [
    "## Question 3: Sorting"
   ]
  },
  {
   "cell_type": "code",
   "execution_count": 4,
   "id": "b2264114-2060-42b7-a778-efbba9fdfcc2",
   "metadata": {},
   "outputs": [
    {
     "data": {
      "text/plain": [
       "[(1, 6.8), (1, 's', None), (2.4, 88, 2, 'bee:'), (1, 1, 1, 1, 6)]"
      ]
     },
     "execution_count": 4,
     "metadata": {},
     "output_type": "execute_result"
    }
   ],
   "source": [
    "tuples = [(2.4, 88, 2, \"bee:\"), (1, \"s\", None), (1, 1, 1, 1, 6), (1, 6.8)]\n",
    "\n",
    "# Write your solution here\n",
    "def quicksort(array,first,last):\n",
    "    if first >last:\n",
    "        return \n",
    "    i,j=first,last\n",
    "    pivot = len(array[last])\n",
    "    \n",
    "    while i<=j:\n",
    "        while len(array[i]) <pivot:\n",
    "            i +=1\n",
    "        while len(array[j]) >pivot:\n",
    "            j -= 1\n",
    "            \n",
    "        if i<=j:\n",
    "            array[i], array[j] = array[j], array[i]\n",
    "            i,j = i+1, j-1\n",
    "        quicksort(array,first,j)\n",
    "        quicksort(array,i,last)\n",
    "quicksort(tuples,0,len(tuples)-1)\n",
    "tuples"
   ]
  },
  {
   "cell_type": "markdown",
   "id": "e0de2efd-98ff-4c4b-aa09-22f8821a7779",
   "metadata": {},
   "source": [
    "## Question 4: Searching"
   ]
  },
  {
   "cell_type": "code",
   "execution_count": 7,
   "id": "da6803e5-3208-4c09-8314-eee7a2b4f484",
   "metadata": {},
   "outputs": [],
   "source": [
    "def binary_search (names, match):\n",
    "\n",
    "    # Write your solution here\n",
    "    high = len(names)-1\n",
    "    low = 0\n",
    "    \n",
    "    def binary(names, low, high, match):\n",
    "        if high>=low:\n",
    "            mid = (high+low)//2\n",
    "            if names[mid] == match:\n",
    "                return True\n",
    "            elif names[mid]>match:\n",
    "                return binary(names, low, mid -1, match)\n",
    "            else: \n",
    "                return binary(names, mid + 1, high, match)\n",
    "        else:\n",
    "            return False\n",
    "    return binary(names, low, high, match)\n",
    "    "
   ]
  },
  {
   "cell_type": "code",
   "execution_count": 8,
   "id": "5b7c7d62-0aa6-41bc-a514-2e403c4d163b",
   "metadata": {},
   "outputs": [
    {
     "data": {
      "text/plain": [
       "True"
      ]
     },
     "execution_count": 8,
     "metadata": {},
     "output_type": "execute_result"
    }
   ],
   "source": [
    "binary_search ([\"Aashray\", \"Bhavana\", \"Hanyue\", \"Inzah\"], \"Bhavana\")\n"
   ]
  },
  {
   "cell_type": "code",
   "execution_count": 9,
   "id": "9a1c078d",
   "metadata": {},
   "outputs": [
    {
     "data": {
      "text/plain": [
       "False"
      ]
     },
     "execution_count": 9,
     "metadata": {},
     "output_type": "execute_result"
    }
   ],
   "source": [
    "binary_search ([\"Pranav\", \"Rui\", \"Victor\", \"Xiufeng\"], \"Menasha\")\n"
   ]
  },
  {
   "cell_type": "markdown",
   "id": "1743107d-e639-4e83-a166-db426f5e11b9",
   "metadata": {},
   "source": [
    "## Question 5: Synthesis Question\n",
    "\n",
    "Test data at: [passwords.txt](https://myuni.adelaide.edu.au/files/11379336/download?download_frd=1) (opens in browser)."
   ]
  },
  {
   "cell_type": "code",
   "execution_count": 44,
   "id": "674720e9-39ba-4ecc-80f3-ad0ee21f56b2",
   "metadata": {},
   "outputs": [
    {
     "data": {
      "text/plain": [
       "True"
      ]
     },
     "execution_count": 44,
     "metadata": {},
     "output_type": "execute_result"
    }
   ],
   "source": [
    "def password_exists_in_file (filename, password):\n",
    "    \n",
    "    # Write your solution here\n",
    "    with open(filename) as text:\n",
    "        password_list = text.read().splitlines()\n",
    "        \n",
    "    sorted_password = quicksort(password_list,0,len(password_list)-1)\n",
    "    return binary_search(sorted_password,0,len(password_list),password)\n",
    "\n",
    "def binary_search(slist,low,high,match):\n",
    "    if high>=low:\n",
    "        mid = (high+low)//2\n",
    "        \n",
    "        if slist[mid] == match: \n",
    "            return True\n",
    "        elif slist[mid]> match:\n",
    "            return binary_search(slist,low,mid-1,match)\n",
    "        else:\n",
    "            return binary_search(slist,mid+1,high,match)\n",
    "    else:\n",
    "        return False\n",
    "\n",
    "def quicksort(array,first,last):\n",
    "    if first >last:\n",
    "        return \n",
    "    i,j=first,last\n",
    "    pivot = len(array[last])\n",
    "    \n",
    "    while i<=j:\n",
    "        while len(array[i]) <pivot:\n",
    "            i +=1\n",
    "        while len(array[j]) >pivot:\n",
    "            j -= 1\n",
    "            \n",
    "        if i<=j:\n",
    "            array[i], array[j] = array[j], array[i]\n",
    "            i,j = i+1, j-1\n",
    "        quicksort(array,first,j)\n",
    "        quicksort(array,i,last)\n",
    "        \n",
    "        return array\n",
    "    \n",
    "def linear_search(sorted_password,password):\n",
    "    index = 0\n",
    "    found = False\n",
    "    \n",
    "    while not found and index < len(sorted_password):\n",
    "        if sorted_password[index] == password:\n",
    "            found = True\n",
    "        else:\n",
    "            index = index + 1\n",
    "            \n",
    "    return found\n",
    "\n",
    "password_exists_in_file('passwords.txt','14588dcf3e6cb4ff')\n"
   ]
  },
  {
   "cell_type": "code",
   "execution_count": 45,
   "id": "2dc82cfc",
   "metadata": {},
   "outputs": [
    {
     "data": {
      "text/plain": [
       "True"
      ]
     },
     "execution_count": 45,
     "metadata": {},
     "output_type": "execute_result"
    }
   ],
   "source": [
    "def password_exists_in_file (filename, password):\n",
    "    output = []\n",
    "    with open (filename, 'r') as file:\n",
    "        for line in file:\n",
    "            output.append(line.strip())\n",
    "    \n",
    "    quicksort(output,0,len(output)-1)\n",
    "    \n",
    "    return binary_search(output,0,len(output)-1,password)    \n",
    "    \n",
    "def binary_search(slist,low,high,match):\n",
    "    if high>=low:\n",
    "        mid = (high+low)//2\n",
    "        \n",
    "        if slist[mid] == match: \n",
    "            return True\n",
    "        elif slist[mid]> match:\n",
    "            return binary_search(slist,low,mid-1,match)\n",
    "        else:\n",
    "            return binary_search(slist,mid+1,high,match)\n",
    "    else:\n",
    "        return False\n",
    "\n",
    "def quicksort(array,first,last):\n",
    "    if first >last:\n",
    "        return \n",
    "    i,j=first,last\n",
    "    pivot = len(array[last])\n",
    "    \n",
    "    while i<=j:\n",
    "        while len(array[i]) <pivot:\n",
    "            i +=1\n",
    "        while len(array[j]) >pivot:\n",
    "            j -= 1\n",
    "            \n",
    "        if i<=j:\n",
    "            array[i], array[j] = array[j], array[i]\n",
    "            i,j = i+1, j-1\n",
    "        quicksort(array,first,j)\n",
    "        quicksort(array,i,last)\n",
    "        \n",
    "        return array\n",
    "\n",
    "    \n",
    "password_exists_in_file('passwords.txt','14588dcf3e6cb4ff')"
   ]
  },
  {
   "cell_type": "code",
   "execution_count": 46,
   "id": "744a1266",
   "metadata": {},
   "outputs": [
    {
     "data": {
      "text/plain": [
       "True"
      ]
     },
     "execution_count": 46,
     "metadata": {},
     "output_type": "execute_result"
    }
   ],
   "source": [
    "# check if this password inside the txt file\n",
    "    \n",
    "def binary_search(slist,low,high,match):\n",
    "    if high>=low:\n",
    "        mid = (high+low)//2\n",
    "        \n",
    "        if slist[mid] == match: \n",
    "            return True\n",
    "        elif slist[mid]> match:\n",
    "            return binary_search(slist,low,mid-1,match)\n",
    "        else:\n",
    "            return binary_search(slist,mid+1,high,match)\n",
    "    else:\n",
    "        return False\n",
    "        \n",
    "\n",
    "def quicksort(array,first,last):\n",
    "    if first >last:\n",
    "        return \n",
    "    i,j=first,last\n",
    "    pivot = len(array[last])\n",
    "    \n",
    "    while i<=j:\n",
    "        while len(array[i]) <pivot:\n",
    "            i +=1\n",
    "        while len(array[j]) >pivot:\n",
    "            j -= 1\n",
    "            \n",
    "        if i<=j:\n",
    "            array[i], array[j] = array[j], array[i]\n",
    "            i,j = i+1, j-1\n",
    "        quicksort(array, first, j)\n",
    "        quicksort(array, i, last)\n",
    "        \n",
    "        return array\n",
    "    \n",
    "def password_exists_in_file (filename, password):\n",
    "    output = []\n",
    "    with open (filename, 'r') as file:\n",
    "        for line in file:\n",
    "            output.append(line.strip())\n",
    "    \n",
    "    quicksort(output,0,len(output)-1)\n",
    "    \n",
    "    return binary_search(output,0,len(output)-1,password)\n",
    "password_exists_in_file('passwords.txt','14588dcf3e6cb4ff')"
   ]
  }
 ],
 "metadata": {
  "kernelspec": {
   "display_name": "Python 3 (ipykernel)",
   "language": "python",
   "name": "python3"
  },
  "language_info": {
   "codemirror_mode": {
    "name": "ipython",
    "version": 3
   },
   "file_extension": ".py",
   "mimetype": "text/x-python",
   "name": "python",
   "nbconvert_exporter": "python",
   "pygments_lexer": "ipython3",
   "version": "3.9.12"
  }
 },
 "nbformat": 4,
 "nbformat_minor": 5
}
